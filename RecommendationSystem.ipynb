{
  "nbformat": 4,
  "nbformat_minor": 0,
  "metadata": {
    "colab": {
      "provenance": [],
      "authorship_tag": "ABX9TyMkabNwLJLwfqOpSiWlcDUF",
      "include_colab_link": true
    },
    "kernelspec": {
      "name": "python3",
      "display_name": "Python 3"
    },
    "language_info": {
      "name": "python"
    }
  },
  "cells": [
    {
      "cell_type": "markdown",
      "metadata": {
        "id": "view-in-github",
        "colab_type": "text"
      },
      "source": [
        "<a href=\"https://colab.research.google.com/github/Shraddhajaiswal0514/My-Projects/blob/Main/RecommendationSystem.ipynb\" target=\"_parent\"><img src=\"https://colab.research.google.com/assets/colab-badge.svg\" alt=\"Open In Colab\"/></a>"
      ]
    },
    {
      "cell_type": "markdown",
      "source": [
        "Movie Recommendation System\n"
      ],
      "metadata": {
        "id": "IAwpgf2n0cbr"
      }
    },
    {
      "cell_type": "markdown",
      "source": [
        "Recommender system is a system that predict or filter preferences according to the user's choice. recommender system produce a list of recommendation in any of two approach -\n",
        "\n",
        "collaborative filtering : build a model from user's past behaviour.\n",
        "content based filtering : it uses characterstics of an item in order to recommend additional items with similar properties."
      ],
      "metadata": {
        "id": "qOvWY9nzNHi3"
      }
    },
    {
      "cell_type": "markdown",
      "source": [
        "Import Library"
      ],
      "metadata": {
        "id": "E5-dewMg0wo6"
      }
    },
    {
      "cell_type": "code",
      "source": [
        "import pandas as pd"
      ],
      "metadata": {
        "id": "wQ8dfHLi0dad"
      },
      "execution_count": 5,
      "outputs": []
    },
    {
      "cell_type": "code",
      "source": [
        "import numpy as np"
      ],
      "metadata": {
        "id": "hgHGm1Hnzq7_"
      },
      "execution_count": 2,
      "outputs": []
    },
    {
      "cell_type": "code",
      "source": [
        "df = pd.read_csv('https://github.com/YBI-Foundation/Dataset/raw/main/Movies%20Recommendation.csv')"
      ],
      "metadata": {
        "id": "wC1OQdYDzvAN"
      },
      "execution_count": 3,
      "outputs": []
    },
    {
      "cell_type": "code",
      "source": [
        "df.info()"
      ],
      "metadata": {
        "colab": {
          "base_uri": "https://localhost:8080/"
        },
        "id": "iP_bRyd-z7rO",
        "outputId": "aa4fbe1a-feda-40ed-bf50-e91dc937f56d"
      },
      "execution_count": 4,
      "outputs": [
        {
          "output_type": "stream",
          "name": "stdout",
          "text": [
            "<class 'pandas.core.frame.DataFrame'>\n",
            "RangeIndex: 4760 entries, 0 to 4759\n",
            "Data columns (total 21 columns):\n",
            " #   Column                    Non-Null Count  Dtype  \n",
            "---  ------                    --------------  -----  \n",
            " 0   Movie_ID                  4760 non-null   int64  \n",
            " 1   Movie_Title               4760 non-null   object \n",
            " 2   Movie_Genre               4760 non-null   object \n",
            " 3   Movie_Language            4760 non-null   object \n",
            " 4   Movie_Budget              4760 non-null   int64  \n",
            " 5   Movie_Popularity          4760 non-null   float64\n",
            " 6   Movie_Release_Date        4760 non-null   object \n",
            " 7   Movie_Revenue             4760 non-null   int64  \n",
            " 8   Movie_Runtime             4758 non-null   float64\n",
            " 9   Movie_Vote                4760 non-null   float64\n",
            " 10  Movie_Vote_Count          4760 non-null   int64  \n",
            " 11  Movie_Homepage            1699 non-null   object \n",
            " 12  Movie_Keywords            4373 non-null   object \n",
            " 13  Movie_Overview            4757 non-null   object \n",
            " 14  Movie_Production_House    4760 non-null   object \n",
            " 15  Movie_Production_Country  4760 non-null   object \n",
            " 16  Movie_Spoken_Language     4760 non-null   object \n",
            " 17  Movie_Tagline             3942 non-null   object \n",
            " 18  Movie_Cast                4733 non-null   object \n",
            " 19  Movie_Crew                4760 non-null   object \n",
            " 20  Movie_Director            4738 non-null   object \n",
            "dtypes: float64(3), int64(4), object(14)\n",
            "memory usage: 781.1+ KB\n"
          ]
        }
      ]
    },
    {
      "cell_type": "code",
      "source": [
        "df_features = df[['Movie_Genre','Movie_Language','Movie_Keywords','Movie_Cast','Movie_Director']].fillna('')"
      ],
      "metadata": {
        "id": "UHa941Yy2G8S"
      },
      "execution_count": 10,
      "outputs": []
    },
    {
      "cell_type": "code",
      "source": [
        "df_features.shape"
      ],
      "metadata": {
        "colab": {
          "base_uri": "https://localhost:8080/"
        },
        "id": "tXaxvuhB2HVo",
        "outputId": "cb42b1d0-8884-4f5c-b0b3-34d95c2cd5ee"
      },
      "execution_count": 11,
      "outputs": [
        {
          "output_type": "execute_result",
          "data": {
            "text/plain": [
              "(4760, 5)"
            ]
          },
          "metadata": {},
          "execution_count": 11
        }
      ]
    },
    {
      "cell_type": "code",
      "source": [
        "df_features"
      ],
      "metadata": {
        "colab": {
          "base_uri": "https://localhost:8080/",
          "height": 423
        },
        "id": "j1libwR44xRP",
        "outputId": "a72a237b-55f1-415d-f970-6f2cf8c1e6f3"
      },
      "execution_count": 8,
      "outputs": [
        {
          "output_type": "execute_result",
          "data": {
            "text/plain": [
              "                           Movie_Genre Movie_Language  Movie_Popularity  \\\n",
              "0                         Crime Comedy             en         22.876230   \n",
              "1     Adventure Action Science Fiction             en        126.393695   \n",
              "2                     Animation Family             en         85.688789   \n",
              "3                 Comedy Drama Romance             en        138.133331   \n",
              "4                                Drama             en         80.878605   \n",
              "...                                ...            ...               ...   \n",
              "4755                            Horror             en          0.001389   \n",
              "4756               Comedy Family Drama             en          0.710870   \n",
              "4757                    Thriller Drama             en          0.015295   \n",
              "4758                            Family             en          0.028756   \n",
              "4759                       Documentary             en          0.050625   \n",
              "\n",
              "                                             Movie_Cast     Movie_Director  \n",
              "0     Tim Roth Antonio Banderas Jennifer Beals Madon...     Allison Anders  \n",
              "1     Mark Hamill Harrison Ford Carrie Fisher Peter ...       George Lucas  \n",
              "2     Albert Brooks Ellen DeGeneres Alexander Gould ...     Andrew Stanton  \n",
              "3     Tom Hanks Robin Wright Gary Sinise Mykelti Wil...    Robert Zemeckis  \n",
              "4     Kevin Spacey Annette Bening Thora Birch Wes Be...         Sam Mendes  \n",
              "...                                                 ...                ...  \n",
              "4755  Lisa Hart Carroll Michael Des Barres Paul Drak...         Pece Dingo  \n",
              "4756  Roni Akurati Brighton Sharbino Jason Lee Anjul...       Frank Lotito  \n",
              "4757  Nicole Smolen Kim Baldwin Ariana Stephens Brys...       Jaco Booyens  \n",
              "4758                                                                        \n",
              "4759                                    Tony Oppedisano  Simon Napier-Bell  \n",
              "\n",
              "[4760 rows x 5 columns]"
            ],
            "text/html": [
              "\n",
              "\n",
              "  <div id=\"df-046ef956-545a-4f07-91af-c845d0e76466\">\n",
              "    <div class=\"colab-df-container\">\n",
              "      <div>\n",
              "<style scoped>\n",
              "    .dataframe tbody tr th:only-of-type {\n",
              "        vertical-align: middle;\n",
              "    }\n",
              "\n",
              "    .dataframe tbody tr th {\n",
              "        vertical-align: top;\n",
              "    }\n",
              "\n",
              "    .dataframe thead th {\n",
              "        text-align: right;\n",
              "    }\n",
              "</style>\n",
              "<table border=\"1\" class=\"dataframe\">\n",
              "  <thead>\n",
              "    <tr style=\"text-align: right;\">\n",
              "      <th></th>\n",
              "      <th>Movie_Genre</th>\n",
              "      <th>Movie_Language</th>\n",
              "      <th>Movie_Popularity</th>\n",
              "      <th>Movie_Cast</th>\n",
              "      <th>Movie_Director</th>\n",
              "    </tr>\n",
              "  </thead>\n",
              "  <tbody>\n",
              "    <tr>\n",
              "      <th>0</th>\n",
              "      <td>Crime Comedy</td>\n",
              "      <td>en</td>\n",
              "      <td>22.876230</td>\n",
              "      <td>Tim Roth Antonio Banderas Jennifer Beals Madon...</td>\n",
              "      <td>Allison Anders</td>\n",
              "    </tr>\n",
              "    <tr>\n",
              "      <th>1</th>\n",
              "      <td>Adventure Action Science Fiction</td>\n",
              "      <td>en</td>\n",
              "      <td>126.393695</td>\n",
              "      <td>Mark Hamill Harrison Ford Carrie Fisher Peter ...</td>\n",
              "      <td>George Lucas</td>\n",
              "    </tr>\n",
              "    <tr>\n",
              "      <th>2</th>\n",
              "      <td>Animation Family</td>\n",
              "      <td>en</td>\n",
              "      <td>85.688789</td>\n",
              "      <td>Albert Brooks Ellen DeGeneres Alexander Gould ...</td>\n",
              "      <td>Andrew Stanton</td>\n",
              "    </tr>\n",
              "    <tr>\n",
              "      <th>3</th>\n",
              "      <td>Comedy Drama Romance</td>\n",
              "      <td>en</td>\n",
              "      <td>138.133331</td>\n",
              "      <td>Tom Hanks Robin Wright Gary Sinise Mykelti Wil...</td>\n",
              "      <td>Robert Zemeckis</td>\n",
              "    </tr>\n",
              "    <tr>\n",
              "      <th>4</th>\n",
              "      <td>Drama</td>\n",
              "      <td>en</td>\n",
              "      <td>80.878605</td>\n",
              "      <td>Kevin Spacey Annette Bening Thora Birch Wes Be...</td>\n",
              "      <td>Sam Mendes</td>\n",
              "    </tr>\n",
              "    <tr>\n",
              "      <th>...</th>\n",
              "      <td>...</td>\n",
              "      <td>...</td>\n",
              "      <td>...</td>\n",
              "      <td>...</td>\n",
              "      <td>...</td>\n",
              "    </tr>\n",
              "    <tr>\n",
              "      <th>4755</th>\n",
              "      <td>Horror</td>\n",
              "      <td>en</td>\n",
              "      <td>0.001389</td>\n",
              "      <td>Lisa Hart Carroll Michael Des Barres Paul Drak...</td>\n",
              "      <td>Pece Dingo</td>\n",
              "    </tr>\n",
              "    <tr>\n",
              "      <th>4756</th>\n",
              "      <td>Comedy Family Drama</td>\n",
              "      <td>en</td>\n",
              "      <td>0.710870</td>\n",
              "      <td>Roni Akurati Brighton Sharbino Jason Lee Anjul...</td>\n",
              "      <td>Frank Lotito</td>\n",
              "    </tr>\n",
              "    <tr>\n",
              "      <th>4757</th>\n",
              "      <td>Thriller Drama</td>\n",
              "      <td>en</td>\n",
              "      <td>0.015295</td>\n",
              "      <td>Nicole Smolen Kim Baldwin Ariana Stephens Brys...</td>\n",
              "      <td>Jaco Booyens</td>\n",
              "    </tr>\n",
              "    <tr>\n",
              "      <th>4758</th>\n",
              "      <td>Family</td>\n",
              "      <td>en</td>\n",
              "      <td>0.028756</td>\n",
              "      <td></td>\n",
              "      <td></td>\n",
              "    </tr>\n",
              "    <tr>\n",
              "      <th>4759</th>\n",
              "      <td>Documentary</td>\n",
              "      <td>en</td>\n",
              "      <td>0.050625</td>\n",
              "      <td>Tony Oppedisano</td>\n",
              "      <td>Simon Napier-Bell</td>\n",
              "    </tr>\n",
              "  </tbody>\n",
              "</table>\n",
              "<p>4760 rows × 5 columns</p>\n",
              "</div>\n",
              "      <button class=\"colab-df-convert\" onclick=\"convertToInteractive('df-046ef956-545a-4f07-91af-c845d0e76466')\"\n",
              "              title=\"Convert this dataframe to an interactive table.\"\n",
              "              style=\"display:none;\">\n",
              "\n",
              "  <svg xmlns=\"http://www.w3.org/2000/svg\" height=\"24px\"viewBox=\"0 0 24 24\"\n",
              "       width=\"24px\">\n",
              "    <path d=\"M0 0h24v24H0V0z\" fill=\"none\"/>\n",
              "    <path d=\"M18.56 5.44l.94 2.06.94-2.06 2.06-.94-2.06-.94-.94-2.06-.94 2.06-2.06.94zm-11 1L8.5 8.5l.94-2.06 2.06-.94-2.06-.94L8.5 2.5l-.94 2.06-2.06.94zm10 10l.94 2.06.94-2.06 2.06-.94-2.06-.94-.94-2.06-.94 2.06-2.06.94z\"/><path d=\"M17.41 7.96l-1.37-1.37c-.4-.4-.92-.59-1.43-.59-.52 0-1.04.2-1.43.59L10.3 9.45l-7.72 7.72c-.78.78-.78 2.05 0 2.83L4 21.41c.39.39.9.59 1.41.59.51 0 1.02-.2 1.41-.59l7.78-7.78 2.81-2.81c.8-.78.8-2.07 0-2.86zM5.41 20L4 18.59l7.72-7.72 1.47 1.35L5.41 20z\"/>\n",
              "  </svg>\n",
              "      </button>\n",
              "\n",
              "\n",
              "\n",
              "    <div id=\"df-d0633a15-7528-4ba6-bd9d-cdc5cd03812f\">\n",
              "      <button class=\"colab-df-quickchart\" onclick=\"quickchart('df-d0633a15-7528-4ba6-bd9d-cdc5cd03812f')\"\n",
              "              title=\"Suggest charts.\"\n",
              "              style=\"display:none;\">\n",
              "\n",
              "<svg xmlns=\"http://www.w3.org/2000/svg\" height=\"24px\"viewBox=\"0 0 24 24\"\n",
              "     width=\"24px\">\n",
              "    <g>\n",
              "        <path d=\"M19 3H5c-1.1 0-2 .9-2 2v14c0 1.1.9 2 2 2h14c1.1 0 2-.9 2-2V5c0-1.1-.9-2-2-2zM9 17H7v-7h2v7zm4 0h-2V7h2v10zm4 0h-2v-4h2v4z\"/>\n",
              "    </g>\n",
              "</svg>\n",
              "      </button>\n",
              "    </div>\n",
              "\n",
              "<style>\n",
              "  .colab-df-quickchart {\n",
              "    background-color: #E8F0FE;\n",
              "    border: none;\n",
              "    border-radius: 50%;\n",
              "    cursor: pointer;\n",
              "    display: none;\n",
              "    fill: #1967D2;\n",
              "    height: 32px;\n",
              "    padding: 0 0 0 0;\n",
              "    width: 32px;\n",
              "  }\n",
              "\n",
              "  .colab-df-quickchart:hover {\n",
              "    background-color: #E2EBFA;\n",
              "    box-shadow: 0px 1px 2px rgba(60, 64, 67, 0.3), 0px 1px 3px 1px rgba(60, 64, 67, 0.15);\n",
              "    fill: #174EA6;\n",
              "  }\n",
              "\n",
              "  [theme=dark] .colab-df-quickchart {\n",
              "    background-color: #3B4455;\n",
              "    fill: #D2E3FC;\n",
              "  }\n",
              "\n",
              "  [theme=dark] .colab-df-quickchart:hover {\n",
              "    background-color: #434B5C;\n",
              "    box-shadow: 0px 1px 3px 1px rgba(0, 0, 0, 0.15);\n",
              "    filter: drop-shadow(0px 1px 2px rgba(0, 0, 0, 0.3));\n",
              "    fill: #FFFFFF;\n",
              "  }\n",
              "</style>\n",
              "\n",
              "    <script>\n",
              "      async function quickchart(key) {\n",
              "        const containerElement = document.querySelector('#' + key);\n",
              "        const charts = await google.colab.kernel.invokeFunction(\n",
              "            'suggestCharts', [key], {});\n",
              "      }\n",
              "    </script>\n",
              "\n",
              "      <script>\n",
              "\n",
              "function displayQuickchartButton(domScope) {\n",
              "  let quickchartButtonEl =\n",
              "    domScope.querySelector('#df-d0633a15-7528-4ba6-bd9d-cdc5cd03812f button.colab-df-quickchart');\n",
              "  quickchartButtonEl.style.display =\n",
              "    google.colab.kernel.accessAllowed ? 'block' : 'none';\n",
              "}\n",
              "\n",
              "        displayQuickchartButton(document);\n",
              "      </script>\n",
              "      <style>\n",
              "    .colab-df-container {\n",
              "      display:flex;\n",
              "      flex-wrap:wrap;\n",
              "      gap: 12px;\n",
              "    }\n",
              "\n",
              "    .colab-df-convert {\n",
              "      background-color: #E8F0FE;\n",
              "      border: none;\n",
              "      border-radius: 50%;\n",
              "      cursor: pointer;\n",
              "      display: none;\n",
              "      fill: #1967D2;\n",
              "      height: 32px;\n",
              "      padding: 0 0 0 0;\n",
              "      width: 32px;\n",
              "    }\n",
              "\n",
              "    .colab-df-convert:hover {\n",
              "      background-color: #E2EBFA;\n",
              "      box-shadow: 0px 1px 2px rgba(60, 64, 67, 0.3), 0px 1px 3px 1px rgba(60, 64, 67, 0.15);\n",
              "      fill: #174EA6;\n",
              "    }\n",
              "\n",
              "    [theme=dark] .colab-df-convert {\n",
              "      background-color: #3B4455;\n",
              "      fill: #D2E3FC;\n",
              "    }\n",
              "\n",
              "    [theme=dark] .colab-df-convert:hover {\n",
              "      background-color: #434B5C;\n",
              "      box-shadow: 0px 1px 3px 1px rgba(0, 0, 0, 0.15);\n",
              "      filter: drop-shadow(0px 1px 2px rgba(0, 0, 0, 0.3));\n",
              "      fill: #FFFFFF;\n",
              "    }\n",
              "  </style>\n",
              "\n",
              "      <script>\n",
              "        const buttonEl =\n",
              "          document.querySelector('#df-046ef956-545a-4f07-91af-c845d0e76466 button.colab-df-convert');\n",
              "        buttonEl.style.display =\n",
              "          google.colab.kernel.accessAllowed ? 'block' : 'none';\n",
              "\n",
              "        async function convertToInteractive(key) {\n",
              "          const element = document.querySelector('#df-046ef956-545a-4f07-91af-c845d0e76466');\n",
              "          const dataTable =\n",
              "            await google.colab.kernel.invokeFunction('convertToInteractive',\n",
              "                                                     [key], {});\n",
              "          if (!dataTable) return;\n",
              "\n",
              "          const docLinkHtml = 'Like what you see? Visit the ' +\n",
              "            '<a target=\"_blank\" href=https://colab.research.google.com/notebooks/data_table.ipynb>data table notebook</a>'\n",
              "            + ' to learn more about interactive tables.';\n",
              "          element.innerHTML = '';\n",
              "          dataTable['output_type'] = 'display_data';\n",
              "          await google.colab.output.renderOutput(dataTable, element);\n",
              "          const docLink = document.createElement('div');\n",
              "          docLink.innerHTML = docLinkHtml;\n",
              "          element.appendChild(docLink);\n",
              "        }\n",
              "      </script>\n",
              "    </div>\n",
              "  </div>\n"
            ]
          },
          "metadata": {},
          "execution_count": 8
        }
      ]
    },
    {
      "cell_type": "code",
      "source": [
        "X = df_features['Movie_Genre'] + ' ' + df_features['Movie_Language'] + ' ' + df_features['Movie_Keywords'] + ' ' + df_features['Movie_Cast'] + ' ' + df_features['Movie_Director']"
      ],
      "metadata": {
        "id": "bi03Vbx45NIp"
      },
      "execution_count": 12,
      "outputs": []
    },
    {
      "cell_type": "code",
      "source": [
        "X"
      ],
      "metadata": {
        "colab": {
          "base_uri": "https://localhost:8080/"
        },
        "id": "Hlr7bLMl60j6",
        "outputId": "df17bca0-8224-473c-e426-c65636554cb7"
      },
      "execution_count": 13,
      "outputs": [
        {
          "output_type": "execute_result",
          "data": {
            "text/plain": [
              "0       Crime Comedy en hotel new year's eve witch bet...\n",
              "1       Adventure Action Science Fiction en android ga...\n",
              "2       Animation Family en father son relationship ha...\n",
              "3       Comedy Drama Romance en vietnam veteran hippie...\n",
              "4       Drama en male nudity female nudity adultery mi...\n",
              "                              ...                        \n",
              "4755    Horror en  Lisa Hart Carroll Michael Des Barre...\n",
              "4756    Comedy Family Drama en  Roni Akurati Brighton ...\n",
              "4757    Thriller Drama en christian film sex trafficki...\n",
              "4758                                         Family en   \n",
              "4759    Documentary en music actors legendary perfomer...\n",
              "Length: 4760, dtype: object"
            ]
          },
          "metadata": {},
          "execution_count": 13
        }
      ]
    },
    {
      "cell_type": "markdown",
      "source": [
        "Feature text conversion into tokens"
      ],
      "metadata": {
        "id": "nDk2LWa96_jO"
      }
    },
    {
      "cell_type": "code",
      "source": [
        "from sklearn.feature_extraction.text import TfidfVectorizer"
      ],
      "metadata": {
        "id": "7VsjaRau66lM"
      },
      "execution_count": 14,
      "outputs": []
    },
    {
      "cell_type": "code",
      "source": [
        "tfidf = TfidfVectorizer()"
      ],
      "metadata": {
        "id": "Hm9CQZEY6642"
      },
      "execution_count": 16,
      "outputs": []
    },
    {
      "cell_type": "code",
      "source": [
        "x = tfidf.fit_transform(X)"
      ],
      "metadata": {
        "id": "6wOiobYx8k3G"
      },
      "execution_count": 17,
      "outputs": []
    },
    {
      "cell_type": "code",
      "source": [
        "x.shape"
      ],
      "metadata": {
        "colab": {
          "base_uri": "https://localhost:8080/"
        },
        "id": "Ms0pVGH48slj",
        "outputId": "8edeed30-bacb-4c7e-fe90-b9725bb544c8"
      },
      "execution_count": 18,
      "outputs": [
        {
          "output_type": "execute_result",
          "data": {
            "text/plain": [
              "(4760, 14816)"
            ]
          },
          "metadata": {},
          "execution_count": 18
        }
      ]
    },
    {
      "cell_type": "code",
      "source": [
        "print(x)"
      ],
      "metadata": {
        "colab": {
          "base_uri": "https://localhost:8080/"
        },
        "id": "cQCLIqt48wTc",
        "outputId": "e7a96b20-f28c-42e5-c312-16f6bb9cc29d"
      },
      "execution_count": 19,
      "outputs": [
        {
          "output_type": "stream",
          "name": "stdout",
          "text": [
            "  (0, 452)\t0.2527893450771156\n",
            "  (0, 341)\t0.221714115400248\n",
            "  (0, 13242)\t0.22681105601214802\n",
            "  (0, 8329)\t0.22016866775539004\n",
            "  (0, 8129)\t0.25688428990116646\n",
            "  (0, 1143)\t0.2615267554483384\n",
            "  (0, 6623)\t0.15166228960926623\n",
            "  (0, 978)\t0.21459405931249442\n",
            "  (0, 552)\t0.20761737187069065\n",
            "  (0, 11304)\t0.22333146968371728\n",
            "  (0, 13192)\t0.16244539866426566\n",
            "  (0, 11266)\t0.2350295485803124\n",
            "  (0, 1316)\t0.2527893450771156\n",
            "  (0, 14461)\t0.19761557316518416\n",
            "  (0, 4296)\t0.23067802069223262\n",
            "  (0, 14623)\t0.24912629210986972\n",
            "  (0, 9435)\t0.14712533809566203\n",
            "  (0, 6098)\t0.3906448451315794\n",
            "  (0, 4159)\t0.036990694054009246\n",
            "  (0, 2772)\t0.07008337800624968\n",
            "  (0, 3042)\t0.10107356482125734\n",
            "  (1, 7984)\t0.19926350047622196\n",
            "  (1, 5074)\t0.15881759195282208\n",
            "  (1, 5455)\t0.26005463729140177\n",
            "  (1, 278)\t0.20253990390975216\n",
            "  :\t:\n",
            "  (4757, 11875)\t0.17391829275855464\n",
            "  (4757, 9481)\t0.2097939447065153\n",
            "  (4757, 4587)\t0.14519125328802765\n",
            "  (4757, 2538)\t0.1862316778438991\n",
            "  (4757, 7155)\t0.19960099766843914\n",
            "  (4757, 13151)\t0.0874305361405088\n",
            "  (4757, 3800)\t0.06486831081039018\n",
            "  (4757, 4159)\t0.039880801695981585\n",
            "  (4758, 4416)\t0.9445229825786247\n",
            "  (4758, 4159)\t0.32844533088594663\n",
            "  (4759, 9750)\t0.3286995450242791\n",
            "  (4759, 10123)\t0.3286995450242791\n",
            "  (4759, 7629)\t0.3286995450242791\n",
            "  (4759, 90)\t0.3286995450242791\n",
            "  (4759, 12151)\t0.31351148841466714\n",
            "  (4759, 6028)\t0.2648424830668339\n",
            "  (4759, 2616)\t0.31351148841466714\n",
            "  (4759, 9316)\t0.3027353907564623\n",
            "  (4759, 3677)\t0.1772534888692975\n",
            "  (4759, 12141)\t0.19499071637321422\n",
            "  (4759, 4772)\t0.19052018296639517\n",
            "  (4759, 13257)\t0.19005485578238063\n",
            "  (4759, 1221)\t0.20524291239199263\n",
            "  (4759, 9231)\t0.15454863778928116\n",
            "  (4759, 4159)\t0.03985436453058407\n"
          ]
        }
      ]
    },
    {
      "cell_type": "markdown",
      "source": [
        "Get similarity score using cosine similarity"
      ],
      "metadata": {
        "id": "YiM3xBRU9irY"
      }
    },
    {
      "cell_type": "code",
      "source": [
        "from sklearn.metrics.pairwise import cosine_similarity"
      ],
      "metadata": {
        "id": "6q2rZ0u084Uk"
      },
      "execution_count": 20,
      "outputs": []
    },
    {
      "cell_type": "code",
      "source": [
        "Similarity_Score = cosine_similarity(x)"
      ],
      "metadata": {
        "id": "TgnkazUf84p0"
      },
      "execution_count": 21,
      "outputs": []
    },
    {
      "cell_type": "code",
      "source": [
        "Similarity_Score"
      ],
      "metadata": {
        "colab": {
          "base_uri": "https://localhost:8080/"
        },
        "id": "I5wtiGat-Bds",
        "outputId": "1abbf634-f531-4b8f-882f-92c7f43505c6"
      },
      "execution_count": 22,
      "outputs": [
        {
          "output_type": "execute_result",
          "data": {
            "text/plain": [
              "array([[1.        , 0.0013852 , 0.0012416 , ..., 0.00147522, 0.01214942,\n",
              "        0.00147424],\n",
              "       [0.0013852 , 1.        , 0.00125692, ..., 0.00149343, 0.01229936,\n",
              "        0.00149244],\n",
              "       [0.0012416 , 0.00125692, 1.        , ..., 0.00133861, 0.10219417,\n",
              "        0.00133772],\n",
              "       ...,\n",
              "       [0.00147522, 0.00149343, 0.00133861, ..., 1.        , 0.01309866,\n",
              "        0.00158942],\n",
              "       [0.01214942, 0.01229936, 0.10219417, ..., 0.01309866, 1.        ,\n",
              "        0.01308998],\n",
              "       [0.00147424, 0.00149244, 0.00133772, ..., 0.00158942, 0.01308998,\n",
              "        1.        ]])"
            ]
          },
          "metadata": {},
          "execution_count": 22
        }
      ]
    },
    {
      "cell_type": "code",
      "source": [
        "Similarity_Score.shape"
      ],
      "metadata": {
        "colab": {
          "base_uri": "https://localhost:8080/"
        },
        "id": "VuZSqz_n-HEZ",
        "outputId": "9c92a85e-375e-4dae-f1d6-e31461e2eb30"
      },
      "execution_count": 23,
      "outputs": [
        {
          "output_type": "execute_result",
          "data": {
            "text/plain": [
              "(4760, 4760)"
            ]
          },
          "metadata": {},
          "execution_count": 23
        }
      ]
    },
    {
      "cell_type": "markdown",
      "source": [
        "Get a movie name as input from user and validate for closest spelling"
      ],
      "metadata": {
        "id": "xsg1niAP-fbV"
      }
    },
    {
      "cell_type": "code",
      "source": [
        "Movie_Name = input('Enter your favourite movie name :')"
      ],
      "metadata": {
        "colab": {
          "base_uri": "https://localhost:8080/"
        },
        "id": "3hZYLwzR-HZN",
        "outputId": "2caf5905-3e3b-4ca2-eff8-fd447bf24cf9"
      },
      "execution_count": 30,
      "outputs": [
        {
          "name": "stdout",
          "output_type": "stream",
          "text": [
            "Enter your favourite movie name :Avengers\n"
          ]
        }
      ]
    },
    {
      "cell_type": "code",
      "source": [
        "All_Movies_Title_List = df['Movie_Title'].tolist()"
      ],
      "metadata": {
        "id": "x0XKyX4a_aMM"
      },
      "execution_count": 25,
      "outputs": []
    },
    {
      "cell_type": "code",
      "source": [
        "import difflib"
      ],
      "metadata": {
        "id": "xqktt0_7AScZ"
      },
      "execution_count": 26,
      "outputs": []
    },
    {
      "cell_type": "code",
      "source": [
        "Movie_Recommendation = difflib.get_close_matches(Movie_Name,All_Movies_Title_List)"
      ],
      "metadata": {
        "id": "dmm9NRbEAXUa"
      },
      "execution_count": 33,
      "outputs": []
    },
    {
      "cell_type": "code",
      "source": [
        "print(Movie_Recommendation)"
      ],
      "metadata": {
        "colab": {
          "base_uri": "https://localhost:8080/"
        },
        "id": "x75B78hYAk9h",
        "outputId": "b972841a-3a65-4b1e-9518-febe3cbbe42c"
      },
      "execution_count": 34,
      "outputs": [
        {
          "output_type": "stream",
          "name": "stdout",
          "text": [
            "['The Avengers', 'Swingers']\n"
          ]
        }
      ]
    },
    {
      "cell_type": "code",
      "source": [
        "Close_Match = Movie_Recommendation[0]\n",
        "print(Close_Match)"
      ],
      "metadata": {
        "colab": {
          "base_uri": "https://localhost:8080/"
        },
        "id": "jDh3Eo0dA_QX",
        "outputId": "1405398c-4c80-41aa-fe37-742a321f81fd"
      },
      "execution_count": 35,
      "outputs": [
        {
          "output_type": "stream",
          "name": "stdout",
          "text": [
            "The Avengers\n"
          ]
        }
      ]
    },
    {
      "cell_type": "code",
      "source": [
        "Index_of_Close_Match_Movie = df[df.Movie_Title == Close_Match]['Movie_ID'].values[0]"
      ],
      "metadata": {
        "id": "S_QvNMHeBM6S"
      },
      "execution_count": 38,
      "outputs": []
    },
    {
      "cell_type": "code",
      "source": [
        "print(Index_of_Close_Match_Movie)"
      ],
      "metadata": {
        "colab": {
          "base_uri": "https://localhost:8080/"
        },
        "id": "O2B_w8rSC02M",
        "outputId": "d90c7bcc-fe27-401d-8389-4f6a5071ae47"
      },
      "execution_count": 39,
      "outputs": [
        {
          "output_type": "stream",
          "name": "stdout",
          "text": [
            "2851\n"
          ]
        }
      ]
    },
    {
      "cell_type": "markdown",
      "source": [
        "Getting a list of similar movies"
      ],
      "metadata": {
        "id": "Tlq6Uc_PC_Gt"
      }
    },
    {
      "cell_type": "code",
      "source": [
        "Recommendation_Score = list(enumerate(Similarity_Score[Index_of_Close_Match_Movie]))"
      ],
      "metadata": {
        "id": "ajyF1_SjDF5g"
      },
      "execution_count": 40,
      "outputs": []
    },
    {
      "cell_type": "code",
      "source": [
        "print(Recommendation_Score)"
      ],
      "metadata": {
        "colab": {
          "base_uri": "https://localhost:8080/"
        },
        "id": "2AUJ46nSC9Oq",
        "outputId": "1f80d846-50f1-4ad2-e9f9-e3d4c68ea14b"
      },
      "execution_count": 41,
      "outputs": [
        {
          "output_type": "stream",
          "name": "stdout",
          "text": [
            "[(0, 0.0017640893853739879), (1, 0.001785860962690818), (2, 0.014838538770480083), (3, 0.001790163229589136), (4, 0.001731747924114024), (5, 0.001728273304135934), (6, 0.0018958865708379633), (7, 0.0), (8, 0.001700449509471576), (9, 0.0016133484047660027), (10, 0.0017694275255966038), (11, 0.0017414677024918208), (12, 0.0017602977721322543), (13, 0.0016466748799029715), (14, 0.015106790600078952), (15, 0.0018523510533007494), (16, 0.0), (17, 0.0017366189232481271), (18, 0.033719240699206246), (19, 0.06568867963731326), (20, 0.0018127173647472746), (21, 0.0018494100328209089), (22, 0.0017632988973357209), (23, 0.0017594922086694238), (24, 0.0016557065163377127), (25, 0.0016039998757499932), (26, 0.0016956608189081465), (27, 0.0017707828220322125), (28, 0.0017474972408972609), (29, 0.001668119802685588), (30, 0.001769559157514409), (31, 0.0017342272985000958), (32, 0.0), (33, 0.0015939288292159243), (34, 0.03848270713215367), (35, 0.0018205595026307148), (36, 0.0016079607342533405), (37, 0.0017249702362477182), (38, 0.0019109050775910495), (39, 0.0019172058036284584), (40, 0.001753975396177338), (41, 0.0018542502674583497), (42, 0.0018052771763435746), (43, 0.0018014838477736848), (44, 0.0), (45, 0.017154773905116452), (46, 0.0016201287317037264), (47, 0.0016016103464045399), (48, 0.001837595092638265), (49, 0.0018395651572113362), (50, 0.0018375398022705538), (51, 0.0017964066402171759), (52, 0.0016020057547324526), (53, 0.016930118003620587), (54, 0.0017651112600179564), (55, 0.001751199586199359), (56, 0.001768720896314301), (57, 0.0), (58, 0.012032729308842433), (59, 0.0018346650935222263), (60, 0.0015732009088216827), (61, 0.001666350622152951), (62, 0.001915388095218038), (63, 0.0), (64, 0.0), (65, 0.031220997117544246), (66, 0.0016948621057854838), (67, 0.03090886382145975), (68, 0.0018392365695900485), (69, 0.03527100555322323), (70, 0.0018247648962502647), (71, 0.0017448759750866734), (72, 0.0016288204924909113), (73, 0.016309265805331607), (74, 0.0018594060330678038), (75, 0.028598836410591987), (76, 0.0015828032048042578), (77, 0.0016519821618331471), (78, 0.05393171486913124), (79, 0.0017802500387849337), (80, 0.030628482174681854), (81, 0.0017243408279399588), (82, 0.0015704166663654223), (83, 0.0017318945901383415), (84, 0.0017525790212237834), (85, 0.0016921825491725676), (86, 0.0018425679458601166), (87, 0.0019208231612180147), (88, 0.0015259811897593244), (89, 0.0020170689406705075), (90, 0.043866652173123764), (91, 0.016797173408079184), (92, 0.001569045420966637), (93, 0.044160558384695445), (94, 0.04297536736226545), (95, 0.049312490769886294), (96, 0.0017520399497331983), (97, 0.001595713164974276), (98, 0.0019200445755032203), (99, 0.0015257865829794255), (100, 0.0019947833786177916), (101, 0.001830752500070886), (102, 0.0018471177250368605), (103, 0.0), (104, 0.0018005227024323375), (105, 0.0017633403732186805), (106, 0.0016102727079332789), (107, 0.0019173131790363505), (108, 0.0015349191573376787), (109, 0.0016983343803325605), (110, 0.001782231637887495), (111, 0.0017956444302895047), (112, 0.0016682782610959147), (113, 0.0015884738469208826), (114, 0.0017903427710534497), (115, 0.042110804209153384), (116, 0.12218870158510806), (117, 0.01496967180504485), (118, 0.001897289361265931), (119, 0.0016695182249221881), (120, 0.015055824844181288), (121, 0.0019139832713420983), (122, 0.0017763075497090773), (123, 0.001898315580349388), (124, 0.0019175890154782915), (125, 0.0018280815240846674), (126, 0.04300399840074537), (127, 0.0016504897484194271), (128, 0.0018674782068719598), (129, 0.0016022670951531062), (130, 0.0015375865072596792), (131, 0.0018352147066709212), (132, 0.0016806573982000664), (133, 0.0015594790709747288), (134, 0.0015981607075070377), (135, 0.0016672123410565631), (136, 0.0015503494964956496), (137, 0.0019076514913875149), (138, 0.0016676211154417347), (139, 0.001770668263201469), (140, 0.0), (141, 0.0018498815219497673), (142, 0.0018675730881107405), (143, 0.001806008940487802), (144, 0.0017400451669625525), (145, 0.001916913464387355), (146, 0.0018193139975785787), (147, 0.0016350070803045453), (148, 0.001849642257426968), (149, 0.0), (150, 0.0017775135643824803), (151, 0.001749379110451276), (152, 0.09402141831669271), (153, 0.01944713439043432), (154, 0.10084405035124004), (155, 0.0), (156, 0.031981102390468745), (157, 0.0), (158, 0.0016588562485018484), (159, 0.0), (160, 0.0016705539570997642), (161, 0.0018085406637800602), (162, 0.001957505900370708), (163, 0.0016694729933530328), (164, 0.0016954155616293583), (165, 0.0), (166, 0.0017938221323878898), (167, 0.0018585741144093748), (168, 0.0), (169, 0.0016901918965113714), (170, 0.0015641614021733845), (171, 0.001642867434544883), (172, 0.001655287174805038), (173, 0.03322022698654396), (174, 0.0015554825147717497), (175, 0.001700347559308925), (176, 0.0016284923372981497), (177, 0.014477936753405177), (178, 0.0017982794818508243), (179, 0.04536928057553543), (180, 0.0018214627156053736), (181, 0.0017286126471158286), (182, 0.0018042325476004), (183, 0.05406514408758202), (184, 0.0017491524047815175), (185, 0.016250819528286567), (186, 0.0), (187, 0.001605078554344318), (188, 0.01522597982430279), (189, 0.0016622385356371155), (190, 0.0), (191, 0.0015871184744795982), (192, 0.001814515475539853), (193, 0.0020256653081027753), (194, 0.0014669703299046008), (195, 0.0015375756868256482), (196, 0.0016756531093927549), (197, 0.0), (198, 0.03441462739533153), (199, 0.01471770691643348), (200, 0.0015917481373552453), (201, 0.0018262376033898128), (202, 0.0), (203, 0.0018558510838515225), (204, 0.0019166724182849268), (205, 0.001870214091984538), (206, 0.04304864388818084), (207, 0.0019494838953548485), (208, 0.001726444316626919), (209, 0.001792030758394672), (210, 0.001707389062695116), (211, 0.0017062316824326949), (212, 0.0018022171299095912), (213, 0.030629071472474526), (214, 0.0018078685079778764), (215, 0.0018731904795408446), (216, 0.001856053201704818), (217, 0.0018681567889219644), (218, 0.001869622108470215), (219, 0.015838116229488032), (220, 0.001728374732498883), (221, 0.001703076440091596), (222, 0.0018481306678550385), (223, 0.001612360626604788), (224, 0.0), (225, 0.0019131555358090605), (226, 0.0017861368965212219), (227, 0.001645544538004982), (228, 0.0017882218337006422), (229, 0.0016172697388091959), (230, 0.0017837715259129657), (231, 0.0017447845531659031), (232, 0.0017592290230538134), (233, 0.0018407592859871205), (234, 0.0016209539936150573), (235, 0.001968558928396715), (236, 0.03760055787273846), (237, 0.03280517166160734), (238, 0.0018081292555733781), (239, 0.0017782478751338048), (240, 0.001687392904261991), (241, 0.0016278952002913595), (242, 0.014330772451382066), (243, 0.0), (244, 0.0016779466325626997), (245, 0.017767897098092154), (246, 0.002010280534900815), (247, 0.0018270130767749652), (248, 0.001569403306457601), (249, 0.0019216990270602117), (250, 0.0018862692963280293), (251, 0.0015984748330298043), (252, 0.0), (253, 0.0017897048696312533), (254, 0.0017085546889360793), (255, 0.001872149520930928), (256, 0.0), (257, 0.016677942898740264), (258, 0.0018336423694212995), (259, 0.0016524346783260541), (260, 0.0015404557538213582), (261, 0.0016696647621717376), (262, 0.0017239299282068), (263, 0.0017181892405240423), (264, 0.0016922099675264705), (265, 0.0016234409819048728), (266, 0.03844171996547884), (267, 0.0), (268, 0.0015782600734833738), (269, 0.031467341775168384), (270, 0.0018080413370278197), (271, 0.0015161411041703628), (272, 0.001694343082006114), (273, 0.038294412071452434), (274, 0.0018918512086369803), (275, 0.0019164422463963497), (276, 0.0016901339427201946), (277, 0.057411296089013075), (278, 0.001934112030340998), (279, 0.0018377163110040828), (280, 0.0016751637589910565), (281, 0.0017837189211092994), (282, 0.0017801437488314184), (283, 0.0018806365667970357), (284, 0.0018199860856626963), (285, 0.0016916798756596105), (286, 0.001757913044439947), (287, 0.001720661733475372), (288, 0.0016311338878949155), (289, 0.0014070058097303368), (290, 0.0015318922659648625), (291, 0.0017047594089769234), (292, 0.0016491504323041346), (293, 0.0), (294, 0.0015772433860126774), (295, 0.001619552954398696), (296, 0.0), (297, 0.055976478357671514), (298, 0.05527748234726618), (299, 0.052139731068917186), (300, 0.051423434213597824), (301, 0.05483151695059367), (302, 0.03909813910166713), (303, 0.0017872476681877964), (304, 0.0018812711027299236), (305, 0.06749535738375625), (306, 0.0017133040672421946), (307, 0.001846939033033339), (308, 0.016400330341421007), (309, 0.001552814350693961), (310, 0.0017493036962539547), (311, 0.0016504195608030151), (312, 0.0017010544473972057), (313, 0.0017857565030771853), (314, 0.0015141028740303531), (315, 0.0018000401941657537), (316, 0.0015488753589398686), (317, 0.0015520601369770517), (318, 0.001818710812136579), (319, 0.0015620953087763481), (320, 0.0019303637186269022), (321, 0.0016406235667073515), (322, 0.0017257368762961136), (323, 0.0016660359569598106), (324, 0.001712658293392407), (325, 0.001647968756779159), (326, 0.0019310544608525668), (327, 0.0017310889316071681), (328, 0.0017075615960690513), (329, 0.0016419308080380412), (330, 0.0016785566517566453), (331, 0.0016978546589390023), (332, 0.0017851737780495349), (333, 0.001606853248813418), (334, 0.0018088588019388907), (335, 0.015298796566429046), (336, 0.001435962487654246), (337, 0.0015483660109610906), (338, 0.001611862452447005), (339, 0.0018253216050726627), (340, 0.05544056550792492), (341, 0.016843024875573025), (342, 0.0019549942352533353), (343, 0.0016752940676757397), (344, 0.05286024960411364), (345, 0.056624472002554334), (346, 0.01601973867608101), (347, 0.001754556037940746), (348, 0.0017479918390498235), (349, 0.0018151575807019147), (350, 0.0018454960174207405), (351, 0.01648378818914579), (352, 0.0018556882284821992), (353, 0.0018193803067135487), (354, 0.0017649014261133093), (355, 0.001803433464095434), (356, 0.0017693981684425968), (357, 0.001566743827214087), (358, 0.0017013080721917139), (359, 0.0015659119516370332), (360, 0.0018833928527367961), (361, 0.017442015798009296), (362, 0.01756991688405458), (363, 0.017532619275915082), (364, 0.0016270940495633993), (365, 0.06092201064131996), (366, 0.001698744569803172), (367, 0.0018801193890081367), (368, 0.0019440797357005598), (369, 0.001731883691850915), (370, 0.0017905055705669502), (371, 0.0019235194442338802), (372, 0.0016072520411820038), (373, 0.0017782914652874381), (374, 0.03317372997993397), (375, 0.001749873155834748), (376, 0.001644149809394456), (377, 0.0017275804517965557), (378, 0.001680618828291746), (379, 0.001703601226226118), (380, 0.0351589562908745), (381, 0.001740401631010105), (382, 0.0015560077900168803), (383, 0.015487073221936471), (384, 0.0018667626732268821), (385, 0.0018796910299805672), (386, 0.03268636214075248), (387, 0.001516544682570755), (388, 0.0018666598767419517), (389, 0.0017682728102556325), (390, 0.0017297604178046929), (391, 0.01849020462599066), (392, 0.016491716607018897), (393, 0.03437265335982729), (394, 0.0016336041017916095), (395, 0.0018321385067271078), (396, 0.0), (397, 0.0016613535763873497), (398, 0.0017328604206306895), (399, 0.1379886730479749), (400, 0.0016656342241325127), (401, 0.018683789738800447), (402, 0.0019072708311741531), (403, 0.02788310426966024), (404, 0.02969445934436588), (405, 0.016524478029847037), (406, 0.0), (407, 0.015903080730981498), (408, 0.0016195692295774655), (409, 0.014865045334342433), (410, 0.029039772769032163), (411, 0.001613008648650327), (412, 0.0016598672988815668), (413, 0.017174340035033465), (414, 0.001563228820031941), (415, 0.001839563700706409), (416, 0.0015385023048022752), (417, 0.0015194449098424163), (418, 0.0019161752374194307), (419, 0.0017706261070393765), (420, 0.001828353537585921), (421, 0.04044892667203096), (422, 0.0017792346719930868), (423, 0.015988100464101436), (424, 0.04077012258827083), (425, 0.00197771449513914), (426, 0.001886163084104244), (427, 0.001629448812567268), (428, 0.0015908377629690442), (429, 0.0), (430, 0.050552193754377694), (431, 0.0018642587568406044), (432, 0.0019037807469263351), (433, 0.0017162306627337399), (434, 0.00197273494743746), (435, 0.02943000923864121), (436, 0.002015897913431638), (437, 0.013563345364180829), (438, 0.0015558472248853768), (439, 0.0017466542203734042), (440, 0.001769872271644906), (441, 0.0015500456885999784), (442, 0.0015207577640356633), (443, 0.002026493737223707), (444, 0.0018747010624535424), (445, 0.0014806749917522005), (446, 0.001679562009396274), (447, 0.001938431918031401), (448, 0.0019847020722663705), (449, 0.001603296076155082), (450, 0.0018625191189039136), (451, 0.00166676267370471), (452, 0.0014327603456393478), (453, 0.0), (454, 0.0018582725596172128), (455, 0.0019685891017350503), (456, 0.001986281399174129), (457, 0.016316403785041105), (458, 0.002080711516358082), (459, 0.015347813984436603), (460, 0.0018599335635032842), (461, 0.06662953843837732), (462, 0.0020459414913513935), (463, 0.0017015107956472918), (464, 0.001648307844837594), (465, 0.0016086814026008147), (466, 0.0017379354984223148), (467, 0.0016862164637631955), (468, 0.0016710469719492542), (469, 0.0015742893998561885), (470, 0.01658922214511031), (471, 0.0016036691730316095), (472, 0.0017385619596768387), (473, 0.001419928509334471), (474, 0.0017796391888530235), (475, 0.0), (476, 0.0017228533455438627), (477, 0.0409145263266734), (478, 0.0017891689750690809), (479, 0.001699356252369676), (480, 0.0), (481, 0.0020594936695799374), (482, 0.0016480506851226549), (483, 0.0018021733773171506), (484, 0.0022622505977288026), (485, 0.0019397645628878343), (486, 0.001653691607753112), (487, 0.0015143714865797017), (488, 0.0015207425755474806), (489, 0.0018866539117558115), (490, 0.017940304841336498), (491, 0.0018208182190664799), (492, 0.0016845987585785357), (493, 0.0018129785489404903), (494, 0.034896702970228066), (495, 0.0), (496, 0.0016429487182084903), (497, 0.015117440760778207), (498, 0.015299270406506058), (499, 0.0019852205654462044), (500, 0.0020429344093766517), (501, 0.0018964591834479479), (502, 0.0018680509084178926), (503, 0.0016205619997881418), (504, 0.001691969344697929), (505, 0.0014737615129478412), (506, 0.001644880775972738), (507, 0.0015652592355978733), (508, 0.001912641719110511), (509, 0.033838555302365916), (510, 0.0), (511, 0.015136605612936253), (512, 0.002087509123724041), (513, 0.0020334876611278604), (514, 0.03381342427761565), (515, 0.0015677789516923238), (516, 0.0019534415275825837), (517, 0.0017672109191250041), (518, 0.04422627489178459), (519, 0.013992956162299819), (520, 0.0018661274135135702), (521, 0.0018311619029525972), (522, 0.10974104586578559), (523, 0.001957076801192471), (524, 0.015166636515192487), (525, 0.0017289881944104976), (526, 0.0019823207240585216), (527, 0.012077634720851358), (528, 0.015723453137979806), (529, 0.0018649762517111488), (530, 0.0019813940935837376), (531, 0.002062370010157898), (532, 0.0018401687173212689), (533, 0.0017822154753492662), (534, 0.0017090522878643304), (535, 0.001652522829759957), (536, 0.0017560372554802318), (537, 0.0018596617641498503), (538, 0.0015579820334540766), (539, 0.0016620865793902644), (540, 0.0017882869706704286), (541, 0.0018756571098171011), (542, 0.001718355200504773), (543, 0.0018201516064002617), (544, 0.0018745146564986806), (545, 0.001572166543601978), (546, 0.04560051185686606), (547, 0.0), (548, 0.0016786276003128132), (549, 0.013566897582722922), (550, 0.0019497556343795245), (551, 0.0017641318881320594), (552, 0.0017732703973296347), (553, 0.0018007511726869131), (554, 0.0017443952500521382), (555, 0.0016385681172689267), (556, 0.0016477762232964205), (557, 0.0016759606393519958), (558, 0.031033109854554063), (559, 0.0), (560, 0.0019536383028260777), (561, 0.0017580030559778599), (562, 0.06251805637372487), (563, 0.002010815018696429), (564, 0.0016530852122404666), (565, 0.03028545525237524), (566, 0.001569577220627517), (567, 0.03686433971781507), (568, 0.0016335226454326432), (569, 0.001921729328300804), (570, 0.0024288057865519967), (571, 0.0016554591957957882), (572, 0.00178871797599456), (573, 0.0017007659924729904), (574, 0.0018311218752755842), (575, 0.0014283015528171886), (576, 0.016494288476204443), (577, 0.0017774605858428532), (578, 0.0016820764624218998), (579, 0.001747451506627477), (580, 0.0018537905561385132), (581, 0.0019977587746469075), (582, 0.002115598234050545), (583, 0.0017747727440164938), (584, 0.0018689001778891318), (585, 0.0017085164509045144), (586, 0.0018693125633650132), (587, 0.0018847854665660388), (588, 0.03654905009499146), (589, 0.001825249941763396), (590, 0.00179557698077252), (591, 0.00182622781094068), (592, 0.001783218532867347), (593, 0.0016088211958717096), (594, 0.0015372137346599353), (595, 0.001728482249672578), (596, 0.0017712884895478907), (597, 0.04547290964912292), (598, 0.0015685126256196984), (599, 0.001734907490832395), (600, 0.001717169516091139), (601, 0.0018767836098463077), (602, 0.0018705371003238736), (603, 0.0018142154898985459), (604, 0.0015607155901193688), (605, 0.0018862448239441235), (606, 0.0018895385659229104), (607, 0.0015788532591715903), (608, 0.0015991392104778529), (609, 0.0016191436848014265), (610, 0.03663460404420083), (611, 0.0), (612, 0.0020437887005180498), (613, 0.0016812581727216002), (614, 0.002009828116480911), (615, 0.001741811266349603), (616, 0.0016570989051886702), (617, 0.0015797752432879135), (618, 0.0016083250891066635), (619, 0.00176614465904844), (620, 0.0016586918880809336), (621, 0.0018137774526312688), (622, 0.001985750997322624), (623, 0.001944636816527143), (624, 0.0), (625, 0.03110459209284038), (626, 0.0018526241047526974), (627, 0.0020566935390122945), (628, 0.001671050832429944), (629, 0.0), (630, 0.0018864904173409797), (631, 0.0017741104912224435), (632, 0.0), (633, 0.033713396799473036), (634, 0.0017607575932311703), (635, 0.001875767336443109), (636, 0.0017220390449423748), (637, 0.0018400041262816762), (638, 0.0017849667630448391), (639, 0.068010856735791), (640, 0.0016681313962920324), (641, 0.012129607612946583), (642, 0.0323657980362904), (643, 0.002026894541755657), (644, 0.0), (645, 0.0), (646, 0.0), (647, 0.0), (648, 0.0015526871066946768), (649, 0.0016909381221737638), (650, 0.001656135798741357), (651, 0.0016805632325152923), (652, 0.06426793236495794), (653, 0.001708720361910033), (654, 0.0018099411387443917), (655, 0.001696113634398359), (656, 0.001817841431663012), (657, 0.10968964987781445), (658, 0.0018974106915542368), (659, 0.0017713469514389504), (660, 0.001866919096390979), (661, 0.0667065124289559), (662, 0.015558152696466463), (663, 0.0018044619825286403), (664, 0.0017575818324036328), (665, 0.0017801365107317307), (666, 0.001915438773531619), (667, 0.0016459909619696504), (668, 0.0015503319401228728), (669, 0.0016968930288593798), (670, 0.002225925683831428), (671, 0.0017757804769046922), (672, 0.0), (673, 0.001943450229623209), (674, 0.0016458093022777723), (675, 0.0018846081076381142), (676, 0.0019388931415918998), (677, 0.001901145542668256), (678, 0.053983079092453846), (679, 0.002053630622872059), (680, 0.03269329749094347), (681, 0.0020180361166596025), (682, 0.001948936716645103), (683, 0.0019617381206159176), (684, 0.0016990927908301292), (685, 0.0018273338910132042), (686, 0.049282707438313325), (687, 0.048050548088778657), (688, 0.0018793171768332457), (689, 0.03828634023243362), (690, 0.0022072538264310995), (691, 0.03657904853409158), (692, 0.001592725175729288), (693, 0.0), (694, 0.0017318953217507402), (695, 0.001643002225342026), (696, 0.0018467669983144085), (697, 0.001678934648312576), (698, 0.0), (699, 0.04060991674708748), (700, 0.0183599459370349), (701, 0.0018993282471202247), (702, 0.0018326078855733926), (703, 0.015229789906686), (704, 0.001678460363616295), (705, 0.001766884330759736), (706, 0.013962356657207235), (707, 0.001455063698494108), (708, 0.0020527919174605034), (709, 0.0019266028788956617), (710, 0.001474373236315748), (711, 0.0022145030004049123), (712, 0.013587991426947842), (713, 0.01605849665749993), (714, 0.0017139351429577433), (715, 0.016727394544282414), (716, 0.0019371302013117373), (717, 0.015778477671290096), (718, 0.0016734218266830705), (719, 0.0017165520773020266), (720, 0.012437803746718911), (721, 0.0017994880534881856), (722, 0.001486736547389804), (723, 0.03729952754594025), (724, 0.04405136279354305), (725, 0.015091338333024274), (726, 0.01313911443519952), (727, 0.001865115943276774), (728, 0.001949452210694141), (729, 0.0019972664627335335), (730, 0.0016910582502975004), (731, 0.001987245037075571), (732, 0.001869906192713315), (733, 0.0016121677901523711), (734, 0.001626790150388043), (735, 0.002163434173127153), (736, 0.0021122297871452537), (737, 0.0018874203986885042), (738, 0.0019186228156934226), (739, 0.0018850800725533786), (740, 0.0017210474313026664), (741, 0.001811547815713738), (742, 0.0015875371701882044), (743, 0.0018841677695420032), (744, 0.0017385644660949657), (745, 0.015416161468118568), (746, 0.0016343876950404002), (747, 0.035425311613049744), (748, 0.04096442515662992), (749, 0.04011207891068513), (750, 0.0018276282642406558), (751, 0.0021530722867233237), (752, 0.0817976536046461), (753, 0.002060508098863968), (754, 0.00193607573648294), (755, 0.0015896619351903388), (756, 0.001681630701488402), (757, 0.0017926608465947385), (758, 0.034653844023817236), (759, 0.0016241793192097779), (760, 0.001928180183230434), (761, 0.05683330265886371), (762, 0.001707666689166011), (763, 0.001622319385491566), (764, 0.0023108854153060577), (765, 0.0017676067788843692), (766, 0.0), (767, 0.001676457223911882), (768, 0.001841951477721583), (769, 0.0017421455225827315), (770, 0.0015390372864806077), (771, 0.001901378195624673), (772, 0.0018200166350709382), (773, 0.018132703709982607), (774, 0.0019249530961922496), (775, 0.0015737794910781055), (776, 0.0016789900836824219), (777, 0.0018842632311196373), (778, 0.001744193130030587), (779, 0.0), (780, 0.0017817648471171081), (781, 0.018724486870274833), (782, 0.00180005389128721), (783, 0.0016482195625851512), (784, 0.0016281915846263252), (785, 0.03843509632589824), (786, 0.0016131260066309626), (787, 0.001467157615581158), (788, 0.09505126255534364), (789, 0.001625098509569324), (790, 0.0016584266402443382), (791, 0.04400241904953659), (792, 0.04049876092284994), (793, 0.0019904349686977615), (794, 0.015539294374902458), (795, 0.03868266918924895), (796, 0.03690406694564433), (797, 0.0018666194315288059), (798, 0.0017098184453289175), (799, 0.0016566593208584442), (800, 0.0016677240705990247), (801, 0.06438490498908009), (802, 0.0019445681658378866), (803, 0.00173841080570379), (804, 0.03736051749846051), (805, 0.0017266270590980185), (806, 0.001991669960678366), (807, 0.1466041105183179), (808, 0.001903154785402016), (809, 0.0017352709488426665), (810, 0.0018432674040389679), (811, 0.0017515449083066788), (812, 0.0016124846769709114), (813, 0.0019716428588266205), (814, 0.0017753995652212233), (815, 0.0016507947913980137), (816, 0.0014142639414999859), (817, 0.001669033950596549), (818, 0.0016718469311831636), (819, 0.0017227116005336194), (820, 0.0017650529468133573), (821, 0.001545813036115706), (822, 0.0018593009851171722), (823, 0.0018002308193056855), (824, 0.013883892914449277), (825, 0.001925370467156527), (826, 0.001685416247815024), (827, 0.0016052650292659755), (828, 0.001550870005554808), (829, 0.001476699554823179), (830, 0.00200091006102446), (831, 0.00139987794067166), (832, 0.0018369255701307502), (833, 0.0018421036958219388), (834, 0.0019348143496711956), (835, 0.0017924140004350218), (836, 0.047497415268167635), (837, 0.0016527677004882042), (838, 0.0), (839, 0.0021077856850537724), (840, 0.0018523328454604579), (841, 0.0019301570176305108), (842, 0.002032185571501221), (843, 0.0016375215006502982), (844, 0.0018406485605853996), (845, 0.0020477052201832826), (846, 0.0017381967172983624), (847, 0.0019641634691340954), (848, 0.03877867250748144), (849, 0.0018150312913761937), (850, 0.0018850803216031798), (851, 0.00162495634275624), (852, 0.0016611901578543076), (853, 0.0017889737481615688), (854, 0.0016509678841578016), (855, 0.001890966135676592), (856, 0.0016310479774158415), (857, 0.0018549621822234064), (858, 0.0017244784998851773), (859, 0.017547763903753837), (860, 0.04965777725967673), (861, 0.0), (862, 0.0014974853905227812), (863, 0.0015500335801472307), (864, 0.0017162445941369907), (865, 0.0018826322163118642), (866, 0.0015884177115416344), (867, 0.0017810121238902696), (868, 0.0017851478448165435), (869, 0.0018735751226031136), (870, 0.001763429697899525), (871, 0.0017091853156902725), (872, 0.03376985015433874), (873, 0.0017639330496150957), (874, 0.0016725767874763804), (875, 0.0020486312360227274), (876, 0.03957076794386166), (877, 0.03688900862130273), (878, 0.0018981941823410073), (879, 0.0019251829943448089), (880, 0.0018436366457611519), (881, 0.0017764502872583603), (882, 0.0), (883, 0.001707177380411631), (884, 0.0017368088916567027), (885, 0.0017138825148850974), (886, 0.0016093139849969402), (887, 0.0018720355092758797), (888, 0.0019299712178310546), (889, 0.0020105418674123657), (890, 0.0017403524684311892), (891, 0.0019434420722777071), (892, 0.0017005677173661457), (893, 0.0016024568409054682), (894, 0.001722297734857574), (895, 0.001722423957747826), (896, 0.0019245739478204495), (897, 0.0017402596821185937), (898, 0.0015464772088775278), (899, 0.0016999681529847154), (900, 0.0015911629307022678), (901, 0.0016981132055817324), (902, 0.001715110124558393), (903, 0.001480398839638414), (904, 0.0019510032300198452), (905, 0.002044283252745144), (906, 0.0016475259339656235), (907, 0.0015647722023184063), (908, 0.0017514695712772296), (909, 0.015837888830448572), (910, 0.0019155405426595335), (911, 0.002001692192486258), (912, 0.014543326339533695), (913, 0.0017793933079984282), (914, 0.001950509507548171), (915, 0.001863303135800787), (916, 0.0017774579297410273), (917, 0.0), (918, 0.0018254099200521341), (919, 0.0017809654231221745), (920, 0.014414085430071024), (921, 0.029678843063448923), (922, 0.001762020110168865), (923, 0.0017233020902655625), (924, 0.0014830083044632468), (925, 0.0018224298245888963), (926, 0.0016831564990846153), (927, 0.0017007053278109547), (928, 0.002211377337645184), (929, 0.0011989414102350686), (930, 0.00195548080923874), (931, 0.032296042525837475), (932, 0.04286787121867619), (933, 0.0), (934, 0.001801191909435902), (935, 0.030718181877253385), (936, 0.001741158771584707), (937, 0.0018409251837472307), (938, 0.001858845256945122), (939, 0.0020743107062508107), (940, 0.014669671209222183), (941, 0.0014847634648923612), (942, 0.0015099541919061273), (943, 0.001582855089706356), (944, 0.0016118365676092421), (945, 0.0017853678515573196), (946, 0.0180111065636966), (947, 0.0021340221555779457), (948, 0.002265305950990349), (949, 0.0019625985736482407), (950, 0.0019645957452438796), (951, 0.0014166982528214225), (952, 0.0022026501548869635), (953, 0.0016331887949357137), (954, 0.0016257175541390745), (955, 0.0020175243552395267), (956, 0.001805068164988363), (957, 0.0018572272934901954), (958, 0.0016276055847790673), (959, 0.001859055071823444), (960, 0.001826669612912414), (961, 0.016182906074918305), (962, 0.0018032095708463438), (963, 0.00153656062218288), (964, 0.035491389991978047), (965, 0.03308203973063465), (966, 0.0016160013179023912), (967, 0.002248454105999322), (968, 0.0), (969, 0.0019092375006109633), (970, 0.0015267184988038303), (971, 0.001808729329813172), (972, 0.0016329554961313569), (973, 0.0017913572150620738), (974, 0.0016076491065252527), (975, 0.0016409277950020292), (976, 0.0017843271081341807), (977, 0.10128952856075028), (978, 0.001649491464597232), (979, 0.0014949611974585128), (980, 0.03284009458141067), (981, 0.0018304670014446184), (982, 0.0020610584338158207), (983, 0.0016686320346409864), (984, 0.001753784060411151), (985, 0.002021340492787444), (986, 0.0), (987, 0.0018126293934664398), (988, 0.0018603622982209728), (989, 0.0017061353690017089), (990, 0.0019459628377882369), (991, 0.001890857637811548), (992, 0.001846532340218778), (993, 0.0017775073766452543), (994, 0.001808910302541943), (995, 0.0017330497555237418), (996, 0.002235533900010492), (997, 0.0016806473640509924), (998, 0.0017698832033463978), (999, 0.001786850546787519), (1000, 0.0015308211623468145), (1001, 0.041832201749111), (1002, 0.0017299536329404717), (1003, 0.0017305222768503293), (1004, 0.03543440074930379), (1005, 0.0), (1006, 0.001707782219059733), (1007, 0.10386052594975173), (1008, 0.014564315257003038), (1009, 0.0014119695763632337), (1010, 0.0017173358680873502), (1011, 0.018434956274437052), (1012, 0.001672920087060539), (1013, 0.01690467434524717), (1014, 0.03259689860276141), (1015, 0.03709272730927288), (1016, 0.016290455926009598), (1017, 0.0018050894937632644), (1018, 0.0017115085340979404), (1019, 0.0), (1020, 0.0015079473918076295), (1021, 0.0016943990194395627), (1022, 0.0017141993771985016), (1023, 0.0021024589065855876), (1024, 0.001825007514544947), (1025, 0.042589857667095415), (1026, 0.0017654463280024624), (1027, 0.001776932150253351), (1028, 0.0017779227686288608), (1029, 0.0017244150899367562), (1030, 0.0), (1031, 0.0017991588985874643), (1032, 0.0015797052435497759), (1033, 0.001701074372657908), (1034, 0.0016369032079340366), (1035, 0.0016125114417400855), (1036, 0.00177152360720905), (1037, 0.0), (1038, 0.0017263451538132699), (1039, 0.0017750463426905955), (1040, 0.0), (1041, 0.001657916355976927), (1042, 0.0013830386735968576), (1043, 0.0019470619510918161), (1044, 0.0016992382138661518), (1045, 0.0016732015606990963), (1046, 0.0016350281771972245), (1047, 0.0019717945672652224), (1048, 0.0017832810843705802), (1049, 0.001856477142338298), (1050, 0.001412556967236225), (1051, 0.001932442836566208), (1052, 0.0017488805734906024), (1053, 0.001856884954136728), (1054, 0.001791149337427671), (1055, 0.0015495744480438724), (1056, 0.0018312931021668536), (1057, 0.0018777790032575366), (1058, 0.0020244486177819774), (1059, 0.0018988341848068032), (1060, 0.001721132395560885), (1061, 0.0018813581514865651), (1062, 0.06543544290437661), (1063, 0.001734257319781133), (1064, 0.0019151111308690926), (1065, 0.0014538518164730941), (1066, 0.0016676584859134091), (1067, 0.028693478136236954), (1068, 0.0016140101679390933), (1069, 0.001900860844849716), (1070, 0.0), (1071, 0.0020518759180818934), (1072, 0.0015647826183343495), (1073, 0.030071142361553276), (1074, 0.04263009551406632), (1075, 0.001702359576086914), (1076, 0.0017567219224728361), (1077, 0.0015751197205848726), (1078, 0.001412535698488582), (1079, 0.04793701156896532), (1080, 0.03572726550984438), (1081, 0.0), (1082, 0.0017292759039257083), (1083, 0.00162485822820961), (1084, 0.001734210044702693), (1085, 0.016740892798642347), (1086, 0.02857730322300425), (1087, 0.0018053126984536973), (1088, 0.018810124167377172), (1089, 0.0017748067907109085), (1090, 0.0017948344131156464), (1091, 0.0017984530533803), (1092, 0.0015641033716165976), (1093, 0.0016308868872882236), (1094, 0.0019016095193622729), (1095, 0.0015961766581349967), (1096, 0.001742376451646558), (1097, 0.0019245205768615215), (1098, 0.0), (1099, 0.0018474695740316057), (1100, 0.0018620823846229005), (1101, 0.0018346950574318235), (1102, 0.0018219890238853108), (1103, 0.0018668056308658303), (1104, 0.0017968790164166776), (1105, 0.0017947266792938275), (1106, 0.0018064292444446004), (1107, 0.03765302386804341), (1108, 0.001701957589521779), (1109, 0.0019368308880862418), (1110, 0.041151455289366375), (1111, 0.0018009062225758626), (1112, 0.0018646214683343241), (1113, 0.0017137032853384963), (1114, 0.01537307048958862), (1115, 0.0015686612953719932), (1116, 0.01615860989271514), (1117, 0.0016900941753599326), (1118, 0.001776935601796141), (1119, 0.0017855206158604046), (1120, 0.001723303169868435), (1121, 0.0019582833789182756), (1122, 0.0018050189277258682), (1123, 0.001616902921493305), (1124, 0.03771301207298844), (1125, 0.0016832317479222808), (1126, 0.0017838679320607072), (1127, 0.0017841156423452163), (1128, 0.0016845473497804951), (1129, 0.0017452728249871862), (1130, 0.0018525537937281564), (1131, 0.0017891279601114339), (1132, 0.034349481807334104), (1133, 0.00186060814359793), (1134, 0.0018005170159488464), (1135, 0.0015458554178510824), (1136, 0.0588584998480819), (1137, 0.001659193864081612), (1138, 0.05417695124765278), (1139, 0.0017563509409466666), (1140, 0.001867256620288247), (1141, 0.017215883570968503), (1142, 0.01711562585569512), (1143, 0.001894545089261461), (1144, 0.011792760270570742), (1145, 0.0021901842138843035), (1146, 0.001674165183109488), (1147, 0.0016458388797826137), (1148, 0.03916411203666235), (1149, 0.0016401754936169026), (1150, 0.0018270482243231876), (1151, 0.0017513195567399975), (1152, 0.032676214590259205), (1153, 0.0014698391200155514), (1154, 0.0018347107224410421), (1155, 0.01678412246199803), (1156, 0.0016267174149193122), (1157, 0.0018017428877635084), (1158, 0.0017682836928363367), (1159, 0.0017086500952542406), (1160, 0.0), (1161, 0.0), (1162, 0.0018004044860951336), (1163, 0.0016730489283439671), (1164, 0.0013719094076067948), (1165, 0.017743777092448728), (1166, 0.016592836112409536), (1167, 0.0018309776934404174), (1168, 0.01979036971944126), (1169, 0.002004552984512301), (1170, 0.0018021378342148971), (1171, 0.0), (1172, 0.0018265154153041339), (1173, 0.0016834079800363945), (1174, 0.0017615455220076812), (1175, 0.05133756454582673), (1176, 0.001722058046562242), (1177, 0.0015550091810915957), (1178, 0.002012354964021224), (1179, 0.0017991552743342229), (1180, 0.00176463803924859), (1181, 0.0015575266239748434), (1182, 0.014802879081102914), (1183, 0.0), (1184, 0.0018752146752371236), (1185, 0.0017576273578526688), (1186, 0.001593055201973302), (1187, 0.0018521914982012125), (1188, 0.0017776055174853489), (1189, 0.001871767647741762), (1190, 0.0015928947534715136), (1191, 0.0019433164851851575), (1192, 0.001969778553365657), (1193, 0.0018128036626968757), (1194, 0.0014918246805182664), (1195, 0.016437421716774446), (1196, 0.017733015523332556), (1197, 0.001653964316985988), (1198, 0.049160590977756435), (1199, 0.0016852766905868343), (1200, 0.0015597781206758525), (1201, 0.0), (1202, 0.0014714194160825775), (1203, 0.07969527342714282), (1204, 0.016993047955723872), (1205, 0.0017850612378837289), (1206, 0.05697581041065896), (1207, 0.0016829968678693445), (1208, 0.0021266798587798465), (1209, 0.0), (1210, 0.001600781813365786), (1211, 0.029650059426269113), (1212, 0.0016960581334766703), (1213, 0.001541401501053018), (1214, 0.0016003424780885122), (1215, 0.0), (1216, 0.0017817601720844063), (1217, 0.02811752588981196), (1218, 0.0017053318016858185), (1219, 0.0018103857571319037), (1220, 0.0018128455140774275), (1221, 0.0015867992950761283), (1222, 0.01697557804918723), (1223, 0.001743613084747907), (1224, 0.0019398303272848787), (1225, 0.001818679144763713), (1226, 0.0017305839791004326), (1227, 0.10413116371571059), (1228, 0.0019220496579965525), (1229, 0.0019760007587890384), (1230, 0.03270834136884335), (1231, 0.001752282998338827), (1232, 0.08315946817336889), (1233, 0.001898839958418452), (1234, 0.0018263919547305966), (1235, 0.016807454258191513), (1236, 0.0017379233043449433), (1237, 0.001728652430908064), (1238, 0.031786525288542), (1239, 0.001710140194596407), (1240, 0.001751469819976125), (1241, 0.0015204200202270795), (1242, 0.0017251647768078276), (1243, 0.0019684114957389726), (1244, 0.0017970237692691174), (1245, 0.03593009709868219), (1246, 0.016608488897119383), (1247, 0.03882823509613243), (1248, 0.001855149297017013), (1249, 0.0015543858970786656), (1250, 0.039685750324235734), (1251, 0.01831948870512447), (1252, 0.001815885496174388), (1253, 0.0017845857948496388), (1254, 0.0019451687538495452), (1255, 0.0018879376476959129), (1256, 0.0017868029912691448), (1257, 0.0018446106585734672), (1258, 0.002083438486682102), (1259, 0.0015858151506193774), (1260, 0.001881912913659979), (1261, 0.04242254889445665), (1262, 0.0016951814292380679), (1263, 0.0018338349489648077), (1264, 0.0018762565350048009), (1265, 0.0018094630694052503), (1266, 0.001711146746093142), (1267, 0.001882682225617339), (1268, 0.014250182250430586), (1269, 0.0017717022593094342), (1270, 0.001698873242148763), (1271, 0.001968601425613481), (1272, 0.037822847545227994), (1273, 0.03400134061658936), (1274, 0.0016701100324944726), (1275, 0.001894815650570573), (1276, 0.0), (1277, 0.0013023842391072535), (1278, 0.0017934086245116818), (1279, 0.0018906307433697739), (1280, 0.0018182980739097224), (1281, 0.001703886563988188), (1282, 0.001735528298808626), (1283, 0.0015885446375926598), (1284, 0.001956463821304781), (1285, 0.03778889200981464), (1286, 0.0018900574754779052), (1287, 0.0016378718877744145), (1288, 0.0017288403215698247), (1289, 0.001382625463086836), (1290, 0.0016798086646370902), (1291, 0.050711253349572306), (1292, 0.03918349751437167), (1293, 0.0016205008890582226), (1294, 0.09761549699281309), (1295, 0.002008456878528442), (1296, 0.0018119247325622794), (1297, 0.03205426615302638), (1298, 0.016199303264584988), (1299, 0.0016627938468827784), (1300, 0.044781585313832466), (1301, 0.0018325216591968147), (1302, 0.0018128223443326633), (1303, 0.0016348008931880913), (1304, 0.0017961517910568194), (1305, 0.001732079451205633), (1306, 0.001726493258066438), (1307, 0.01530550265324091), (1308, 0.015494889142151776), (1309, 0.0015656829672428436), (1310, 0.015472080266116095), (1311, 0.001967996336069338), (1312, 0.0015046301090227004), (1313, 0.0016992945527194232), (1314, 0.0017782616416456925), (1315, 0.0016451632384552274), (1316, 0.001509450908015402), (1317, 0.001630073672225199), (1318, 0.0018574887775979151), (1319, 0.0017708592442950543), (1320, 0.0), (1321, 0.0020558231381276786), (1322, 0.0018681994680894872), (1323, 0.0014041155864850832), (1324, 0.0017610459528134685), (1325, 0.002002493305083505), (1326, 0.001821325337561408), (1327, 0.015964241084508), (1328, 0.01745431579212754), (1329, 0.0018750524791757571), (1330, 0.001782606074843888), (1331, 0.0015587356565769615), (1332, 0.0018668673531324809), (1333, 0.016848143388120667), (1334, 0.0018858127888320866), (1335, 0.0020446163346574215), (1336, 0.016513582140862255), (1337, 0.001829348754490724), (1338, 0.0017168939251665134), (1339, 0.0018603491234281816), (1340, 0.001575865208973162), (1341, 0.0016276256812782883), (1342, 0.030961147790311522), (1343, 0.0020281255128366156), (1344, 0.0018786603608712176), (1345, 0.0020554248452754344), (1346, 0.0016679800408818766), (1347, 0.03129747406508223), (1348, 0.0015356817204875335), (1349, 0.0019092827937957691), (1350, 0.0), (1351, 0.032855677479546166), (1352, 0.0015485080616244142), (1353, 0.001661960847713692), (1354, 0.0016708198490105522), (1355, 0.001747376386296826), (1356, 0.0016753244311684071), (1357, 0.0018924779817714804), (1358, 0.015950269120253154), (1359, 0.0018135932137012532), (1360, 0.0016050701115297027), (1361, 0.015851457435891732), (1362, 0.0017774507445014118), (1363, 0.002001900492755585), (1364, 0.001729512483101744), (1365, 0.0016935750283396172), (1366, 0.001878913582160161), (1367, 0.0016144019131174143), (1368, 0.0524074157483361), (1369, 0.0015110854644253293), (1370, 0.014284008419643487), (1371, 0.0023206640213794005), (1372, 0.0016619354495812737), (1373, 0.015189070673735334), (1374, 0.0017672235808433487), (1375, 0.0017858105938399226), (1376, 0.0018142855374394746), (1377, 0.0014246046707641544), (1378, 0.0017177825385243485), (1379, 0.0018169029487223808), (1380, 0.0018283449762046635), (1381, 0.0019123177256608773), (1382, 0.0018393003690750406), (1383, 0.0018967538556126015), (1384, 0.0017328306716860855), (1385, 0.0017592278259172594), (1386, 0.0017733846181720012), (1387, 0.0020041304026627263), (1388, 0.0016562201216140816), (1389, 0.017659002931146552), (1390, 0.03981858012172818), (1391, 0.0018421515976834576), (1392, 0.0016948466760708127), (1393, 0.0019742283936717126), (1394, 0.01554252345112495), (1395, 0.0014219305456845013), (1396, 0.0018250334564408653), (1397, 0.0), (1398, 0.0019910028663358515), (1399, 0.0016865372031757513), (1400, 0.0017744466345200756), (1401, 0.0018516914502061902), (1402, 0.0018014279100929491), (1403, 0.0016879087360993825), (1404, 0.0018308601168755426), (1405, 0.0017890224430956682), (1406, 0.0017082952116317055), (1407, 0.0018077095636084488), (1408, 0.001645936324153062), (1409, 0.001804855889677091), (1410, 0.00177795819302542), (1411, 0.0016784407210341365), (1412, 0.0018694093303711393), (1413, 0.0017477923223434139), (1414, 0.001523268799383585), (1415, 0.0012982635034253646), (1416, 0.001861164574979999), (1417, 0.0016568425290845313), (1418, 0.0013780740092706205), (1419, 0.0018749373597051239), (1420, 0.0017936381511983765), (1421, 0.0016530796064023658), (1422, 0.03519910650900274), (1423, 0.015301134353026505), (1424, 0.0018074764789973194), (1425, 0.01635432917313556), (1426, 0.0018364168031148101), (1427, 0.0013846551668181444), (1428, 0.0017541253696806498), (1429, 0.0019024921193123662), (1430, 0.0017012079546808519), (1431, 0.0017821094942403165), (1432, 0.00178937674158889), (1433, 0.0017336018982050691), (1434, 0.0014474398039355711), (1435, 0.0709467068995403), (1436, 0.10747699586100616), (1437, 0.0021751402023334155), (1438, 0.0017565166068537455), (1439, 0.0017607747016128504), (1440, 0.001761489111290594), (1441, 0.03832143274758653), (1442, 0.00195223178848467), (1443, 0.10728271859743295), (1444, 0.0015633392184314652), (1445, 0.001888012415093774), (1446, 0.0016926635353052282), (1447, 0.0017723760518345035), (1448, 0.0015635648571819902), (1449, 0.0016619905026724715), (1450, 0.0019545061906463507), (1451, 0.014794509516246506), (1452, 0.0017923663865191547), (1453, 0.0016930817180877964), (1454, 0.043296142931536746), (1455, 0.001728116034580246), (1456, 0.0019935185114628917), (1457, 0.0015890169717118047), (1458, 0.0018951961585757177), (1459, 0.0017711268859111266), (1460, 0.018400538750138033), (1461, 0.001700197295326223), (1462, 0.0016124900400432604), (1463, 0.015587434107450539), (1464, 0.0016344188973515842), (1465, 0.0015565739529198538), (1466, 0.01853228524492412), (1467, 0.0016945358597244204), (1468, 0.09398000580998568), (1469, 0.0018547631606762082), (1470, 0.0017324344612051224), (1471, 0.0015286507590498342), (1472, 0.0019117815543240324), (1473, 0.0019213696517506203), (1474, 0.06592338882282883), (1475, 0.0017448622371653215), (1476, 0.03706658389386933), (1477, 0.016406035826093048), (1478, 0.001866002725012875), (1479, 0.0019524852745974148), (1480, 0.0017926833300952307), (1481, 0.0018464387971156124), (1482, 0.015005069244503184), (1483, 0.001823900421178805), (1484, 0.001900949453729109), (1485, 0.0015033984997540925), (1486, 0.047655837268432547), (1487, 0.015044659261274613), (1488, 0.0019979155247075928), (1489, 0.002033203526355815), (1490, 0.1380216226202302), (1491, 0.001716273665593183), (1492, 0.0015453566779519538), (1493, 0.001569089299972792), (1494, 0.0018441394080022635), (1495, 0.01613474850331602), (1496, 0.032708004037335585), (1497, 0.001787924291089712), (1498, 0.0019271371112214108), (1499, 0.04849888017429629), (1500, 0.03822802374775147), (1501, 0.06583158189660653), (1502, 0.0017371653096622886), (1503, 0.0018450845172193649), (1504, 0.0017722671805590368), (1505, 0.01712218002017035), (1506, 0.0017648636241497896), (1507, 0.0019348005859322656), (1508, 0.0017331096154617278), (1509, 0.0351633329647999), (1510, 0.04146279046908345), (1511, 0.001801579354162666), (1512, 0.0016779346099220474), (1513, 0.05274854184333803), (1514, 0.0015665616638958285), (1515, 0.0017801762898279417), (1516, 0.03731718791635149), (1517, 0.07701099412552491), (1518, 0.002046641485481701), (1519, 0.001536371218329932), (1520, 0.017414975975160025), (1521, 0.015761138580482795), (1522, 0.015875254178160537), (1523, 0.01465617853749654), (1524, 0.017171656600318386), (1525, 0.01673136953536709), (1526, 0.0016722027542529242), (1527, 0.0018238199103049167), (1528, 0.0016773213697220805), (1529, 0.027932447211766274), (1530, 0.0016582139103535922), (1531, 0.017327053048927742), (1532, 0.001707645241443274), (1533, 0.0020022107605139026), (1534, 0.00186769971475828), (1535, 0.001393638455944774), (1536, 0.001789643018828472), (1537, 0.031558120768478325), (1538, 0.001530597361838813), (1539, 0.014407544714111957), (1540, 0.002007910212665077), (1541, 0.01627295012431709), (1542, 0.04109010561173734), (1543, 0.001721164351525442), (1544, 0.0018982779377662103), (1545, 0.031107064858927846), (1546, 0.0), (1547, 0.0), (1548, 0.0021725333237978396), (1549, 0.0016566860658260819), (1550, 0.0017614464833814892), (1551, 0.0017340961597628033), (1552, 0.015217384553503296), (1553, 0.0016189163194607423), (1554, 0.0017999146136366084), (1555, 0.08223128197379809), (1556, 0.001625763796983134), (1557, 0.016536962762403146), (1558, 0.0015710629030041162), (1559, 0.060323171019872814), (1560, 0.0017856822124343592), (1561, 0.0016137114263518428), (1562, 0.0017820096010463455), (1563, 0.0018101452674649109), (1564, 0.0017765044696532559), (1565, 0.0014684802633283744), (1566, 0.0017325160389639644), (1567, 0.0016331091359996193), (1568, 0.03626554691893494), (1569, 0.0018025291960011183), (1570, 0.001643707937194462), (1571, 0.0016359976161968728), (1572, 0.0017207588347666124), (1573, 0.00171681029719582), (1574, 0.001693583852354192), (1575, 0.001800077889192575), (1576, 0.0016971747793981097), (1577, 0.001846741709734987), (1578, 0.016934126200566526), (1579, 0.03684093375141937), (1580, 0.0018700586804067667), (1581, 0.015423331749027394), (1582, 0.0017661915796483192), (1583, 0.001869304663424155), (1584, 0.0018307788374555439), (1585, 0.0017398690570245676), (1586, 0.0016256792630112637), (1587, 0.031560156078001764), (1588, 0.0019185377440555907), (1589, 0.0017686873894194248), (1590, 0.0017558082760254024), (1591, 0.0018225374145234964), (1592, 0.0488317536688252), (1593, 0.0019068976608175251), (1594, 0.0020430979728236253), (1595, 0.0015767022943402472), (1596, 0.0018255435641764243), (1597, 0.0018195602378757382), (1598, 0.015476624923432495), (1599, 0.001871573444409315), (1600, 0.017235922691185724), (1601, 0.01928836051390667), (1602, 0.018129744129868054), (1603, 0.001770615052293421), (1604, 0.015716204999899244), (1605, 0.033600997507611606), (1606, 0.015330061945679692), (1607, 0.016082050302760584), (1608, 0.0017989027001301455), (1609, 0.0018369429214530697), (1610, 0.01441049372482011), (1611, 0.041783176277565635), (1612, 0.0016888132735954648), (1613, 0.06257073625868069), (1614, 0.0018545926953227481), (1615, 0.018061881552474165), (1616, 0.0017577956381920107), (1617, 0.001769640027689021), (1618, 0.03611993667763827), (1619, 0.001814838600645344), (1620, 0.0016716276227172722), (1621, 0.0016957778190319777), (1622, 0.001664655864179675), (1623, 0.0), (1624, 0.001602113207573398), (1625, 0.0), (1626, 0.0017488929834539038), (1627, 0.0), (1628, 0.0014359733492698215), (1629, 0.001779508435460038), (1630, 0.0016903915268114875), (1631, 0.0016489928718064271), (1632, 0.0017193710771936496), (1633, 0.0016391011418261396), (1634, 0.0017089480282237379), (1635, 0.0015941898599644419), (1636, 0.0018271425815622945), (1637, 0.0019916396292930546), (1638, 0.0017554010339797645), (1639, 0.001611467463163558), (1640, 0.017575367240316383), (1641, 0.0016211695122725395), (1642, 0.001645723669910222), (1643, 0.001766314722542474), (1644, 0.0017537888292024912), (1645, 0.040403057012536804), (1646, 0.001651429610755588), (1647, 0.0017188261544651196), (1648, 0.0014251227337491578), (1649, 0.001614582018978903), (1650, 0.0018340910066642192), (1651, 0.001558803499547868), (1652, 0.0), (1653, 0.0016629739489897198), (1654, 0.0016338425596873726), (1655, 0.0018793170639051977), (1656, 0.001794992069697816), (1657, 0.055892471097584474), (1658, 0.0017365420982611167), (1659, 0.0018155008162923964), (1660, 0.0018406166571901552), (1661, 0.0017043555238512801), (1662, 0.0018133782275946166), (1663, 0.0016495412206818478), (1664, 0.014561008792349334), (1665, 0.001583735337613897), (1666, 0.0020381850095000623), (1667, 0.0016377592710863252), (1668, 0.0018122475066122772), (1669, 0.0020441163039960613), (1670, 0.015386890127018379), (1671, 0.0016189686361871357), (1672, 0.0015431114586435045), (1673, 0.03332520844752706), (1674, 0.0017032522124998289), (1675, 0.0017419713848310142), (1676, 0.01416782363422507), (1677, 0.0015907223258331204), (1678, 0.0017523014478667803), (1679, 0.0018431296874093033), (1680, 0.0016431685159279737), (1681, 0.001890664110303384), (1682, 0.03997230479678355), (1683, 0.015285978277840978), (1684, 0.014016916863030296), (1685, 0.001654003031998869), (1686, 0.0015721249853137512), (1687, 0.0017817539435636097), (1688, 0.0018187811764227226), (1689, 0.0019080729067994598), (1690, 0.014678343699176801), (1691, 0.0017373815504496577), (1692, 0.0016736601700681022), (1693, 0.0016291090224296752), (1694, 0.0016854681490674015), (1695, 0.012792438752046234), (1696, 0.001658273867951288), (1697, 0.016313196836830232), (1698, 0.0015575513150396494), (1699, 0.0014496641730199892), (1700, 0.017650015958493637), (1701, 0.001796461466004953), (1702, 0.0019154547755296629), (1703, 0.001719448683808852), (1704, 0.017319309354365407), (1705, 0.0018158860378884457), (1706, 0.015696172696626657), (1707, 0.0016799940180476367), (1708, 0.0016737565075651418), (1709, 0.0016647902994985063), (1710, 0.04416845371858744), (1711, 0.018317193815853092), (1712, 0.0016839887416732337), (1713, 0.01647346361605777), (1714, 0.016560628046348832), (1715, 0.0016598989754854855), (1716, 0.001897862686392374), (1717, 0.0017701782376274898), (1718, 0.0017927820021219152), (1719, 0.0018487071245286116), (1720, 0.016101971573895868), (1721, 0.0016033917545951488), (1722, 0.0017253721562649382), (1723, 0.0018295804875086796), (1724, 0.0018517522763919693), (1725, 0.0018840579159374556), (1726, 0.016467355797780248), (1727, 0.0017581653293943966), (1728, 0.0016532568556434015), (1729, 0.0016288608125942946), (1730, 0.0015765169438790422), (1731, 0.01639098544426125), (1732, 0.0016936823331434993), (1733, 0.0019338569910205198), (1734, 0.001807834224227994), (1735, 0.0), (1736, 0.001895784784525601), (1737, 0.0017274119376148244), (1738, 0.0018061324379594862), (1739, 0.0016577893848787586), (1740, 0.03329187536748928), (1741, 0.0019380245091763111), (1742, 0.001630972215425352), (1743, 0.001648023631227184), (1744, 0.014592918067821065), (1745, 0.0), (1746, 0.0016397078414525288), (1747, 0.0014960353108550467), (1748, 0.0018359815964776574), (1749, 0.0), (1750, 0.0016710358714917832), (1751, 0.0017925094274137043), (1752, 0.03773895117402837), (1753, 0.0), (1754, 0.0018504361705030674), (1755, 0.015444082521852835), (1756, 0.0016686298624861214), (1757, 0.001908602392400993), (1758, 0.01881724452225375), (1759, 0.03509560525027965), (1760, 0.0017548467425374677), (1761, 0.0017243338771843792), (1762, 0.0016483128873003403), (1763, 0.001508087544276242), (1764, 0.0016123830694740437), (1765, 0.03414052307933528), (1766, 0.017186352298312443), (1767, 0.001963129244076238), (1768, 0.0018148268066641594), (1769, 0.016681502633134934), (1770, 0.0018292158305877257), (1771, 0.18281885515137855), (1772, 0.001640911832704793), (1773, 0.0016208018244103948), (1774, 0.0015275356764322073), (1775, 0.001738673587922795), (1776, 0.0018278464371499973), (1777, 0.0018887963870930988), (1778, 0.0017287751861859502), (1779, 0.001813229807694092), (1780, 0.0018167130153422411), (1781, 0.0014985972926655979), (1782, 0.107174605227547), (1783, 0.015596835220654689), (1784, 0.02900721197865588), (1785, 0.0017944403951234153), (1786, 0.0019749749500561063), (1787, 0.0016735357747887634), (1788, 0.0019109599249226966), (1789, 0.037795698611887175), (1790, 0.0018572516387802324), (1791, 0.0017907624391894593), (1792, 0.0018385418861334465), (1793, 0.03510905695751429), (1794, 0.03959965039601957), (1795, 0.0015746624649499205), (1796, 0.0015760455200387448), (1797, 0.0016039831542130983), (1798, 0.0018153567662912103), (1799, 0.0021093035307048758), (1800, 0.013038270989362834), (1801, 0.0015617519755370965), (1802, 0.0016837811414419507), (1803, 0.046602128303657876), (1804, 0.015468950147249723), (1805, 0.0019285165942425006), (1806, 0.0020263240912967834), (1807, 0.0016937065298695789), (1808, 0.001810208448280239), (1809, 0.00150043395814072), (1810, 0.016199208574345626), (1811, 0.0017917906780665778), (1812, 0.0018511081096575879), (1813, 0.0019125223492597724), (1814, 0.0017024340944243508), (1815, 0.001980178284905219), (1816, 0.001789723012489805), (1817, 0.001684812150010079), (1818, 0.0018849639949187413), (1819, 0.001636213521601411), (1820, 0.015602589256532112), (1821, 0.0017848865631587974), (1822, 0.0016692330170625617), (1823, 0.0016461538778356154), (1824, 0.0016656194939710968), (1825, 0.001679959416057689), (1826, 0.0), (1827, 0.0017197324736058141), (1828, 0.001852820199152628), (1829, 0.0019966100307508327), (1830, 0.014428450206245216), (1831, 0.0016300127362368288), (1832, 0.001617195350031363), (1833, 0.03270961568639698), (1834, 0.001563994981199733), (1835, 0.0017309522005416174), (1836, 0.0017420672399351383), (1837, 0.015961973276836242), (1838, 0.0016307559136138662), (1839, 0.014780000908360355), (1840, 0.0017798167631008124), (1841, 0.014873788423997827), (1842, 0.015870552519470695), (1843, 0.016385315859786413), (1844, 0.033097202458983566), (1845, 0.0016333493652515645), (1846, 0.0017498126727282172), (1847, 0.0017102029505958953), (1848, 0.0019436835486019034), (1849, 0.016622058092222804), (1850, 0.028886262241279062), (1851, 0.0017996327016270171), (1852, 0.0016464738252539913), (1853, 0.0016741219948813077), (1854, 0.015059771637464602), (1855, 0.0017255238163700287), (1856, 0.0016787731301756723), (1857, 0.0017084823979362784), (1858, 0.00193329852442433), (1859, 0.0018454808362781817), (1860, 0.0018734003016597632), (1861, 0.0), (1862, 0.0017714882806791072), (1863, 0.014153558296230502), (1864, 0.0017799650761630402), (1865, 0.0019085324042480414), (1866, 0.0018788850267243303), (1867, 0.001705100852789675), (1868, 0.001634914510666845), (1869, 0.03996290066436374), (1870, 0.0017410227698639899), (1871, 0.001820659496812782), (1872, 0.0017593248390555861), (1873, 0.0018649603036817687), (1874, 0.0018627988986423905), (1875, 0.014877180043603992), (1876, 0.0019894280243782365), (1877, 0.0015971728251323784), (1878, 0.016633671697070758), (1879, 0.0017608538627083797), (1880, 0.0018806789461351101), (1881, 0.0018015791260228315), (1882, 0.0016410652796220902), (1883, 0.03084916309639436), (1884, 0.0), (1885, 0.0018551238798952068), (1886, 0.0015124820049266545), (1887, 0.002003871955572828), (1888, 0.0017097617550390714), (1889, 0.0599349963312727), (1890, 0.0019414529761346442), (1891, 0.0016544478428665301), (1892, 0.0), (1893, 0.033618049680994154), (1894, 0.0017147339182880682), (1895, 0.09485079003440153), (1896, 0.001759362921913671), (1897, 0.0017371573882457455), (1898, 0.016289148629629293), (1899, 0.0015339008605368902), (1900, 0.001560386165853418), (1901, 0.0018976039820393724), (1902, 0.0017566585375162146), (1903, 0.0017672646409898005), (1904, 0.0016589247341758863), (1905, 0.037535507803983834), (1906, 0.0018099782549670564), (1907, 0.0017973023497068069), (1908, 0.0017122656518732268), (1909, 0.0017612224785746528), (1910, 0.001767029733396162), (1911, 0.017254004930438854), (1912, 0.001627777790886542), (1913, 0.01645465314897813), (1914, 0.0015889248458477929), (1915, 0.03640761442031702), (1916, 0.001868650894145554), (1917, 0.0016207164622756786), (1918, 0.0019624732085667413), (1919, 0.0020403214456874664), (1920, 0.001705729725706952), (1921, 0.0016695233035080093), (1922, 0.001648769135556356), (1923, 0.0018779764002709368), (1924, 0.001919260688989616), (1925, 0.0019173968995409194), (1926, 0.0018833155167543134), (1927, 0.0016766330450544394), (1928, 0.04424557567216589), (1929, 0.001984901455291308), (1930, 0.0017545898654734026), (1931, 0.00175850128849127), (1932, 0.050733809226413955), (1933, 0.0016803214693432032), (1934, 0.0015064702731983552), (1935, 0.0016654724423077328), (1936, 0.016031410625748095), (1937, 0.040155501790041445), (1938, 0.0013973831367574381), (1939, 0.0021009147131523186), (1940, 0.03726161751816423), (1941, 0.0018857219398279866), (1942, 0.0017313007054426458), (1943, 0.015494765532080946), (1944, 0.0017132752407494106), (1945, 0.0016778673384140856), (1946, 0.0018423023785507065), (1947, 0.0018307964502639526), (1948, 0.0016673555019957155), (1949, 0.0018345996227300656), (1950, 0.037717013511922005), (1951, 0.15418262412925418), (1952, 0.03902529956503557), (1953, 0.0016641589700549363), (1954, 0.0015677687276752742), (1955, 0.01652671361134762), (1956, 0.0017375794075275561), (1957, 0.0016395997840464192), (1958, 0.0017536226620233075), (1959, 0.0019234317914490426), (1960, 0.03758099737750909), (1961, 0.017220188497791347), (1962, 0.0019303072833947498), (1963, 0.0017358677763459423), (1964, 0.06131898417395439), (1965, 0.0017969930403299466), (1966, 0.00162288232059164), (1967, 0.001813591366089467), (1968, 0.002080050505564212), (1969, 0.041314991792759576), (1970, 0.0017481217182204304), (1971, 0.0017613577351679637), (1972, 0.0), (1973, 0.0016087687548911173), (1974, 0.001665610755151082), (1975, 0.0017553409023871327), (1976, 0.0018459418520743128), (1977, 0.0016633739742766955), (1978, 0.001665936983012131), (1979, 0.01443835578034901), (1980, 0.0014789899990772207), (1981, 0.0016981085945184972), (1982, 0.0015713709900985447), (1983, 0.0019998568554058936), (1984, 0.0019215780072632345), (1985, 0.0017682633010014752), (1986, 0.0017464917639951837), (1987, 0.0017067939887843947), (1988, 0.0016179316366483631), (1989, 0.0015447164783749623), (1990, 0.0015958419285177698), (1991, 0.0017864278922674298), (1992, 0.0017153913769284716), (1993, 0.001623894274005735), (1994, 0.0015172662975269796), (1995, 0.001698824489116028), (1996, 0.001786551499224947), (1997, 0.001962986788374764), (1998, 0.0017836229654493861), (1999, 0.017611550170287506), (2000, 0.001704059290322002), (2001, 0.0018522713255032636), (2002, 0.0016586172150712271), (2003, 0.0017651055077823458), (2004, 0.0017106976759034035), (2005, 0.001541192149091649), (2006, 0.015539010484365555), (2007, 0.0017085352500024976), (2008, 0.0016937335608079038), (2009, 0.06729851132784552), (2010, 0.0), (2011, 0.0), (2012, 0.0020172681890865394), (2013, 0.0012987492610509028), (2014, 0.0018903158068397583), (2015, 0.0018079899163230008), (2016, 0.0018201436367150654), (2017, 0.0018209197333858142), (2018, 0.0), (2019, 0.015119187035858468), (2020, 0.0014309042341147497), (2021, 0.0019286827790659735), (2022, 0.049446079605956435), (2023, 0.0016637140089392408), (2024, 0.0016332307829107831), (2025, 0.0), (2026, 0.0019474427367723627), (2027, 0.0017852237724445394), (2028, 0.0018185447976767858), (2029, 0.0018090937759811369), (2030, 0.01633777920921184), (2031, 0.0016886202454322117), (2032, 0.002105262301484191), (2033, 0.032089129501816936), (2034, 0.0), (2035, 0.0016940905727515232), (2036, 0.0016719582249256498), (2037, 0.0020537201762486114), (2038, 0.0015477159601660808), (2039, 0.0017889656938198438), (2040, 0.0018741091136092929), (2041, 0.016457399147747367), (2042, 0.0016530524724927683), (2043, 0.0016749587243198433), (2044, 0.03544567199875216), (2045, 0.001787011406099959), (2046, 0.015347102297196134), (2047, 0.0019187141838441903), (2048, 0.0016220022203239386), (2049, 0.016024388120572105), (2050, 0.015483180289905894), (2051, 0.0017419274200156777), (2052, 0.013549485982167242), (2053, 0.001887288128269889), (2054, 0.0017339230359178653), (2055, 0.01586291459381865), (2056, 0.0016492849542337359), (2057, 0.0016675873812576633), (2058, 0.0017644398907414151), (2059, 0.0014580712997568591), (2060, 0.0020707268581862093), (2061, 0.001886264119647588), (2062, 0.08637022422874324), (2063, 0.0), (2064, 0.0016050376277749383), (2065, 0.0015937243155593134), (2066, 0.0019600779563125064), (2067, 0.0016752590963657432), (2068, 0.0016614191893399776), (2069, 0.0017582768326215414), (2070, 0.03682051081641407), (2071, 0.0016148525636983492), (2072, 0.0019139373458975956), (2073, 0.0017558294942929976), (2074, 0.06834786389743938), (2075, 0.0020608041297460545), (2076, 0.001617422790638517), (2077, 0.0019247207918495189), (2078, 0.0017455798086163613), (2079, 0.0020227674293715773), (2080, 0.0), (2081, 0.0017797521245290107), (2082, 0.017394428363148303), (2083, 0.0017819312571744975), (2084, 0.0018101159666546506), (2085, 0.001863194118812741), (2086, 0.01653081147755134), (2087, 0.014326924362819207), (2088, 0.0018203306119812168), (2089, 0.038990039893135965), (2090, 0.038381917705741196), (2091, 0.0017567904294147568), (2092, 0.0017621572949483371), (2093, 0.0014710345105504563), (2094, 0.04574964444196091), (2095, 0.014552114231658824), (2096, 0.001796543388531501), (2097, 0.0373376017080742), (2098, 0.001446000435838331), (2099, 0.01454629394809893), (2100, 0.015958185015132426), (2101, 0.0019113851845440892), (2102, 0.001721307311652604), (2103, 0.0017429877348853068), (2104, 0.0018584268096520646), (2105, 0.0017747491057647504), (2106, 0.0017805982867730031), (2107, 0.001635526714292421), (2108, 0.0017190027021277655), (2109, 0.0017993553784588527), (2110, 0.0015241527346755), (2111, 0.05979744510986362), (2112, 0.001974956141940723), (2113, 0.0), (2114, 0.0015853300546974803), (2115, 0.0018795062507771195), (2116, 0.0016767396137347575), (2117, 0.015645300407188967), (2118, 0.0018623085256836128), (2119, 0.0016618996072901274), (2120, 0.0), (2121, 0.0017034608860726913), (2122, 0.0017774342354486298), (2123, 0.17022314590735524), (2124, 0.0017313212082769448), (2125, 0.016809009597876595), (2126, 0.0018857628916905673), (2127, 0.0), (2128, 0.0017544027340752803), (2129, 0.0016138544073196507), (2130, 0.0018756746063882865), (2131, 0.0017358134335063154), (2132, 0.0015477753454586159), (2133, 0.0017747809794986134), (2134, 0.0017526688281823408), (2135, 0.012736198676152997), (2136, 0.0018174960786894719), (2137, 0.002245068353451567), (2138, 0.0017880529499836823), (2139, 0.0015745200173723477), (2140, 0.15120481604773528), (2141, 0.0016388113614457887), (2142, 0.001842806435026895), (2143, 0.0016799410446060334), (2144, 0.0017354029669756675), (2145, 0.00161432691884089), (2146, 0.0), (2147, 0.0020386589761602443), (2148, 0.0016782675012953696), (2149, 0.0015877188387290718), (2150, 0.06335380159768418), (2151, 0.0018320807986069506), (2152, 0.0), (2153, 0.015747258377577903), (2154, 0.018469805865564168), (2155, 0.0017945202311062242), (2156, 0.0018158799960581186), (2157, 0.001612697059451393), (2158, 0.0020011425428439534), (2159, 0.00172086090080802), (2160, 0.0017570582094235052), (2161, 0.001557308990274811), (2162, 0.0018569045805338549), (2163, 0.0015422319851977075), (2164, 0.0017351408736564194), (2165, 0.0018214856129715638), (2166, 0.00199340139837648), (2167, 0.001695767238706737), (2168, 0.001812466562884674), (2169, 0.0016929419823917724), (2170, 0.0017151744915948838), (2171, 0.016802489161586876), (2172, 0.0020357762432924686), (2173, 0.0), (2174, 0.0016042659993803004), (2175, 0.001782393990682153), (2176, 0.01592035263418474), (2177, 0.0018005241518029695), (2178, 0.0017572585963321903), (2179, 0.0015861554251080593), (2180, 0.0020194450504007013), (2181, 0.001939061597692183), (2182, 0.002118309123101995), (2183, 0.029809810472720723), (2184, 0.0015340994907271281), (2185, 0.0019304080809816196), (2186, 0.0017930463721871973), (2187, 0.09196269293651411), (2188, 0.1636196098319732), (2189, 0.0022236716594826776), (2190, 0.034618345210025644), (2191, 0.0018627459343496364), (2192, 0.0016903932089885351), (2193, 0.0019017912893371585), (2194, 0.00183602013178891), (2195, 0.001771807522261199), (2196, 0.042213541564168205), (2197, 0.001731410232732537), (2198, 0.017305905194792817), (2199, 0.019051380442681804), (2200, 0.0015853017047820143), (2201, 0.001661230183162267), (2202, 0.0017082939050498975), (2203, 0.0018291013031343614), (2204, 0.034160528419377126), (2205, 0.0016922284055417153), (2206, 0.0015916650495388903), (2207, 0.015140509499134137), (2208, 0.001915065588910552), (2209, 0.0017028959719999426), (2210, 0.01780479787156899), (2211, 0.0014374757783592385), (2212, 0.0017811197382098212), (2213, 0.0016275995662112374), (2214, 0.0018322972231522294), (2215, 0.0016577732180928085), (2216, 0.0017951680008840704), (2217, 0.0018236750906929276), (2218, 0.04332553192657867), (2219, 0.0019281598003299918), (2220, 0.0015034213976957867), (2221, 0.0018862868308399169), (2222, 0.0018024194201462333), (2223, 0.0637078485860099), (2224, 0.03738540433449322), (2225, 0.0016379284547699206), (2226, 0.0), (2227, 0.0014165837615001404), (2228, 0.0020450839044193546), (2229, 0.0019156626872558497), (2230, 0.001877685166359472), (2231, 0.0017447308736630149), (2232, 0.0017155962965623292), (2233, 0.0017900074630158138), (2234, 0.001901382090036928), (2235, 0.002130831906286312), (2236, 0.0020346142214899524), (2237, 0.0), (2238, 0.0), (2239, 0.0018073070535825466), (2240, 0.0014310932448811655), (2241, 0.0020657125526782035), (2242, 0.0017311358753350446), (2243, 0.0016988232732547026), (2244, 0.0021384705115329865), (2245, 0.0018599408919963067), (2246, 0.0017074535915511371), (2247, 0.0018627868966560545), (2248, 0.0014145545899729736), (2249, 0.0019516895440112628), (2250, 0.0020480703585817783), (2251, 0.00220177200461859), (2252, 0.001866232211946681), (2253, 0.0018838571226779534), (2254, 0.001968642526765116), (2255, 0.002044179020325127), (2256, 0.0015499004161949564), (2257, 0.018893648773725673), (2258, 0.0019166044335025693), (2259, 0.016381369311904457), (2260, 0.015402649568858609), (2261, 0.02059260619523727), (2262, 0.015711994477539112), (2263, 0.0652067560650189), (2264, 0.0016204374413658412), (2265, 0.011931892504429819), (2266, 0.002234953864839937), (2267, 0.01841714245284474), (2268, 0.0016736933237433483), (2269, 0.061085513409054965), (2270, 0.03502125020729017), (2271, 0.0020152560057304977), (2272, 0.001770071143411147), (2273, 0.0020653292388800623), (2274, 0.0016379957898658717), (2275, 0.0), (2276, 0.0018206966393590467), (2277, 0.0016282133465588312), (2278, 0.0016896056329670562), (2279, 0.0015136893261451473), (2280, 0.001698450800073605), (2281, 0.02109284535803205), (2282, 0.00203585019086156), (2283, 0.016182796458773373), (2284, 0.0018411642086212459), (2285, 0.0015906817361901785), (2286, 0.0020232050422639178), (2287, 0.027775800684018935), (2288, 0.0), (2289, 0.0), (2290, 0.01843310472572078), (2291, 0.001781301842436795), (2292, 0.0016732048611579878), (2293, 0.0019585408039050336), (2294, 0.0016343301166209304), (2295, 0.0021270124809386736), (2296, 0.0018453412010743593), (2297, 0.001768208458904073), (2298, 0.0017594794892954325), (2299, 0.002729642292047002), (2300, 0.0018868071998346951), (2301, 0.016195513878811133), (2302, 0.0017924563488944203), (2303, 0.03130558686512987), (2304, 0.0018593943611798637), (2305, 0.0018103112808098122), (2306, 0.0019708832201819388), (2307, 0.0016213524084648), (2308, 0.0019591883518590525), (2309, 0.0016943312012149307), (2310, 0.002118370511810057), (2311, 0.0018560453042763124), (2312, 0.002262931704939742), (2313, 0.0018194998175612548), (2314, 0.0017405121036128172), (2315, 0.001745577970696075), (2316, 0.017238146353060375), (2317, 0.0017606505254739524), (2318, 0.0015058891930641017), (2319, 0.017726137126927295), (2320, 0.0022221359899201013), (2321, 0.0018854075496943575), (2322, 0.03702800010650243), (2323, 0.0016148847213152751), (2324, 0.0020420432405451687), (2325, 0.11149981801284084), (2326, 0.0), (2327, 0.015459088079778152), (2328, 0.0019441821501438182), (2329, 0.01397009877232094), (2330, 0.0017549868552282385), (2331, 0.020846275676362918), (2332, 0.018819333043332435), (2333, 0.002056859440112258), (2334, 0.0017375710855004952), (2335, 0.015765127962326743), (2336, 0.00165124133310548), (2337, 0.01782657695764495), (2338, 0.0016255073761429256), (2339, 0.0021150215225569243), (2340, 0.0019969134011348154), (2341, 0.0017311286311024652), (2342, 0.03782794330680344), (2343, 0.0017510600306242096), (2344, 0.0015882385815892705), (2345, 0.0016424213756685002), (2346, 0.00204461333776391), (2347, 0.0016097179070167593), (2348, 0.0015832879167705768), (2349, 0.04621612620288115), (2350, 0.002026510494307383), (2351, 0.01868080527007065), (2352, 0.014568308518511678), (2353, 0.001921889325180639), (2354, 0.001830552637513344), (2355, 0.0014147309109451064), (2356, 0.0017552669280565842), (2357, 0.053586553959857786), (2358, 0.02110058563916245), (2359, 0.0017591284119295124), (2360, 0.0018090393035101132), (2361, 0.0), (2362, 0.0), (2363, 0.001933433788454338), (2364, 0.01487788075747512), (2365, 0.019814103688041804), (2366, 0.001562953843724896), (2367, 0.01577639993568688), (2368, 0.0022179213635670518), (2369, 0.0016362036231426403), (2370, 0.0018172931088448604), (2371, 0.01680307820405546), (2372, 0.1493096062271807), (2373, 0.0), (2374, 0.03771576280087689), (2375, 0.0019406540013428189), (2376, 0.0018586255503752385), (2377, 0.08490409158748863), (2378, 0.03948830148465343), (2379, 0.02083420422250445), (2380, 0.0016507202839046748), (2381, 0.018090466417279318), (2382, 0.0016318362370337629), (2383, 0.0020642528221437115), (2384, 0.002084563310572461), (2385, 0.04290807805059635), (2386, 0.00161229453388861), (2387, 0.0018348126872148565), (2388, 0.0019238382165992676), (2389, 0.013041850833115107), (2390, 0.015997611466218246), (2391, 0.001892771127090066), (2392, 0.002064646959267747), (2393, 0.017283378320831322), (2394, 0.0), (2395, 0.0021913747818335227), (2396, 0.0017187935485182399), (2397, 0.0389675767541032), (2398, 0.0014794626320613175), (2399, 0.0016601330682336358), (2400, 0.002012763054984201), (2401, 0.0), (2402, 0.0015251009380007608), (2403, 0.0018027504292351577), (2404, 0.0021529466209226624), (2405, 0.0016530207021016189), (2406, 0.0021380254514156718), (2407, 0.0021901574034307154), (2408, 0.015457377613124466), (2409, 0.0017246702511153611), (2410, 0.0021070135665950795), (2411, 0.0017593604151547463), (2412, 0.0016597161894596625), (2413, 0.0018683596379311669), (2414, 0.01596704373946794), (2415, 0.04023182380600604), (2416, 0.002143334616447743), (2417, 0.001807756646867589), (2418, 0.001846328800778452), (2419, 0.0018503160228898817), (2420, 0.00197532075419377), (2421, 0.06762939677092913), (2422, 0.0017760965312694189), (2423, 0.01850153524194173), (2424, 0.0), (2425, 0.0020535694624660584), (2426, 0.0), (2427, 0.04663306139201596), (2428, 0.0018773984767875786), (2429, 0.0016904504408581497), (2430, 0.016703289535533593), (2431, 0.04329569260623215), (2432, 0.001548568875325558), (2433, 0.046407478939565046), (2434, 0.0021205363873194947), (2435, 0.016200083649511633), (2436, 0.002066971372852036), (2437, 0.001776084478833585), (2438, 0.0019572411854274683), (2439, 0.001512524728026226), (2440, 0.04518201279123314), (2441, 0.0015351469131426561), (2442, 0.0017127770750422484), (2443, 0.001782061237045887), (2444, 0.0017525409289413357), (2445, 0.03207107721093691), (2446, 0.0016584387191076414), (2447, 0.0017967602188264642), (2448, 0.020177567682373863), (2449, 0.020059062169414145), (2450, 0.013645472763037307), (2451, 0.018331331678008024), (2452, 0.002134768802077937), (2453, 0.0018822281196543445), (2454, 0.0019134360620547632), (2455, 0.0019620902642588666), (2456, 0.018599727873869158), (2457, 0.0015380629531049313), (2458, 0.0016980085576882675), (2459, 0.04913308245247345), (2460, 0.032376321003419986), (2461, 0.015142135868409231), (2462, 0.01572750776424734), (2463, 0.04060214715006352), (2464, 0.1349897212946505), (2465, 0.0018547199098670818), (2466, 0.015068238196460427), (2467, 0.0017869865817737635), (2468, 0.08383682819880782), (2469, 0.0013208457664725965), (2470, 0.0019337716398356748), (2471, 0.0015627632932466405), (2472, 0.0017587345568384316), (2473, 0.015624257315334686), (2474, 0.001737204396945209), (2475, 0.0), (2476, 0.002074744295719845), (2477, 0.0018991124887698654), (2478, 0.0018057619834666325), (2479, 0.042203112501454317), (2480, 0.03701154422255282), (2481, 0.034520632333666215), (2482, 0.0015997418471962272), (2483, 0.002088429930414051), (2484, 0.024557111693413885), (2485, 0.01877754143889011), (2486, 0.002072092674437105), (2487, 0.001784983473439338), (2488, 0.002301145834184552), (2489, 0.0016906198529620328), (2490, 0.0022733933250677087), (2491, 0.001721640518489986), (2492, 0.0021809659824381616), (2493, 0.08111017366866398), (2494, 0.0021006316842305077), (2495, 0.0020589292563155874), (2496, 0.0015696475181296412), (2497, 0.0016638411773718582), (2498, 0.0017840461271574693), (2499, 0.0018389279277515624), (2500, 0.0021978144929186644), (2501, 0.001708383615862709), (2502, 0.0018341545978113047), (2503, 0.0018584911804489493), (2504, 0.01627114621072593), (2505, 0.0017436133890538473), (2506, 0.0), (2507, 0.05718972189086842), (2508, 0.0017021718160384553), (2509, 0.0015043950116528312), (2510, 0.0019906884712676113), (2511, 0.043106516766857395), (2512, 0.0018735999628176452), (2513, 0.0019338669412132486), (2514, 0.0016252542839984196), (2515, 0.001949529819142263), (2516, 0.016991415324727432), (2517, 0.014046017915947433), (2518, 0.002166122604502234), (2519, 0.002126150581371032), (2520, 0.0), (2521, 0.020807697751719197), (2522, 0.0018737515073014173), (2523, 0.04588866752487575), (2524, 0.0016526441881143624), (2525, 0.015960694945228), (2526, 0.0015604871621837904), (2527, 0.001826827930223269), (2528, 0.001865852216713995), (2529, 0.0022965559167861032), (2530, 0.020229446812328744), (2531, 0.01809902063847934), (2532, 0.017930625912434908), (2533, 0.0016928021705083663), (2534, 0.03098770460198121), (2535, 0.0017394905997515859), (2536, 0.002069172410551845), (2537, 0.002149802240295116), (2538, 0.0015689886297142175), (2539, 0.04187808542376599), (2540, 0.0017351910059870774), (2541, 0.0016934310137473917), (2542, 0.0016298390026955756), (2543, 0.002189689221036608), (2544, 0.0), (2545, 0.0016369117971202535), (2546, 0.0017888351987594131), (2547, 0.002209468962622271), (2548, 0.0015659514703479087), (2549, 0.016143927753915894), (2550, 0.0023286671907242367), (2551, 0.0016824856854802798), (2552, 0.04114836437300267), (2553, 0.0017070484542937511), (2554, 0.01597997069609352), (2555, 0.017711084879167532), (2556, 0.0), (2557, 0.001956046582709985), (2558, 0.0018153204729583828), (2559, 0.002082453310918737), (2560, 0.0023018818789091004), (2561, 0.002009369057845909), (2562, 0.01587904189447873), (2563, 0.0018836653874652587), (2564, 0.001968092391586927), (2565, 0.001835149583587943), (2566, 0.001661142136935337), (2567, 0.0018711081813024362), (2568, 0.017635740556897393), (2569, 0.0021551860727851307), (2570, 0.0020748999670634513), (2571, 0.001734919802698358), (2572, 0.038052536829075154), (2573, 0.0014552868962082557), (2574, 0.03830270002202002), (2575, 0.0018834817392927937), (2576, 0.0017887180998895258), (2577, 0.04566071595347811), (2578, 0.001563544605946387), (2579, 0.016284088345616825), (2580, 0.0018596087575246739), (2581, 0.0021484372486513343), (2582, 0.01889143302542718), (2583, 0.017328337029618814), (2584, 0.014479197008251002), (2585, 0.0021663318984128156), (2586, 0.0016473835975237816), (2587, 0.0016229263178073824), (2588, 0.0019721019495066087), (2589, 0.0015796733802594112), (2590, 0.0171354109058144), (2591, 0.01878245456282429), (2592, 0.01833555535932259), (2593, 0.015616599185034868), (2594, 0.0016173263004919066), (2595, 0.0018463312229382415), (2596, 0.001506211575769186), (2597, 0.002613028023583948), (2598, 0.0017983127459933492), (2599, 0.0017079538055005902), (2600, 0.001998146495903898), (2601, 0.002071851118780277), (2602, 0.0), (2603, 0.014679328625997318), (2604, 0.019740957214325124), (2605, 0.001756321741533325), (2606, 0.09640471538045271), (2607, 0.0015341156401922373), (2608, 0.0015283743553865868), (2609, 0.050248247600041415), (2610, 0.0018227857055587106), (2611, 0.0016576481250659483), (2612, 0.015543547379363892), (2613, 0.001865619544111792), (2614, 0.016480357779752198), (2615, 0.015393939256123222), (2616, 0.016204266643304398), (2617, 0.016181791652035874), (2618, 0.001746907639508101), (2619, 0.002224873765195749), (2620, 0.0016612854992366618), (2621, 0.001551746312550007), (2622, 0.0016550532644689872), (2623, 0.0017857752087605), (2624, 0.0020604199969344074), (2625, 0.002088715731771417), (2626, 0.001858696670878214), (2627, 0.0014861053024617997), (2628, 0.0020706115799575316), (2629, 0.0018177750913398354), (2630, 0.001673095041504463), (2631, 0.0017073296764757234), (2632, 0.0017045437087686076), (2633, 0.0019763347239221663), (2634, 0.0016997203569856314), (2635, 0.03435723355485565), (2636, 0.002355973324715921), (2637, 0.02082760533315666), (2638, 0.0019985126354326254), (2639, 0.0017264963061595555), (2640, 0.0022349121391240082), (2641, 0.0016234571253391074), (2642, 0.04100530402304257), (2643, 0.01897118165044308), (2644, 0.0016609455849682384), (2645, 0.03678217357542892), (2646, 0.015879865486585897), (2647, 0.0018392658821929902), (2648, 0.0017391022755635732), (2649, 0.06037463741921362), (2650, 0.0018619740829989824), (2651, 0.0018567100994463447), (2652, 0.017650803197773395), (2653, 0.0017223297369413253), (2654, 0.015220029497209903), (2655, 0.002099867700290441), (2656, 0.019645022648798943), (2657, 0.0022941851993837324), (2658, 0.0030842794866423814), (2659, 0.0841191582281198), (2660, 0.0), (2661, 0.0016390132527182041), (2662, 0.001729199552498029), (2663, 0.0017423287261339657), (2664, 0.001681191157874347), (2665, 0.0017889402805653942), (2666, 0.014469234005071607), (2667, 0.047249184450584576), (2668, 0.0019729119900914176), (2669, 0.002333298943057948), (2670, 0.001854910976775542), (2671, 0.001502477410296171), (2672, 0.0575530340510679), (2673, 0.0022108444342120075), (2674, 0.0), (2675, 0.001994146347241204), (2676, 0.0018114682131374698), (2677, 0.0017874413958468296), (2678, 0.002567545817613285), (2679, 0.0016292777077923887), (2680, 0.0017973779416951218), (2681, 0.03592275460713866), (2682, 0.001781516806621828), (2683, 0.0018608585561318317), (2684, 0.0022940169119824174), (2685, 0.001702125323237968), (2686, 0.0014225822658889675), (2687, 0.0017180054277198028), (2688, 0.04599739084334579), (2689, 0.0021230486283460655), (2690, 0.0017904782844616694), (2691, 0.0017833343960723927), (2692, 0.0016404399284369578), (2693, 0.0016795298810996083), (2694, 0.002104893445814708), (2695, 0.0017530013621526275), (2696, 0.0020141685336178814), (2697, 0.029366135357367915), (2698, 0.0017545585453076311), (2699, 0.001682914573529255), (2700, 0.0017800354228435639), (2701, 0.0025592421037508063), (2702, 0.0017930317725778932), (2703, 0.0023505962318130734), (2704, 0.01681026601893998), (2705, 0.0017159929114400744), (2706, 0.0018263569809910524), (2707, 0.0018570446012834063), (2708, 0.014844337629612235), (2709, 0.0019302888904854782), (2710, 0.07295164584074183), (2711, 0.001887475513575103), (2712, 0.0019145080718697687), (2713, 0.0016256009312573584), (2714, 0.06601506563067559), (2715, 0.0020778617151669516), (2716, 0.0018317157305906384), (2717, 0.016063101685993172), (2718, 0.0318966012712613), (2719, 0.03311749151670197), (2720, 0.08426758483489159), (2721, 0.0165459784275302), (2722, 0.0022237135087801504), (2723, 0.0018438865464691547), (2724, 0.0017462776324970648), (2725, 0.0018599023454728958), (2726, 0.0017248014096356088), (2727, 0.0019031400221564971), (2728, 0.001715999118315408), (2729, 0.017331467721446347), (2730, 0.0024805513387337022), (2731, 0.002126286820181121), (2732, 0.0017102669028306841), (2733, 0.001755316215141324), (2734, 0.001879670233559974), (2735, 0.0014381047080353556), (2736, 0.05720160525488229), (2737, 0.002644966966473421), (2738, 0.002051813898587538), (2739, 0.04383670095088846), (2740, 0.04664424883600286), (2741, 0.01214901755062375), (2742, 0.03246717629604529), (2743, 0.0), (2744, 0.0022311136499734603), (2745, 0.001786442992117211), (2746, 0.0017985632487944438), (2747, 0.001530114426910305), (2748, 0.0), (2749, 0.0017583845304580538), (2750, 0.0020270957200511433), (2751, 0.0020118025519514056), (2752, 0.001672817908321668), (2753, 0.0018085341027440876), (2754, 0.001659583345559059), (2755, 0.0018820843480768451), (2756, 0.020587499629948755), (2757, 0.0024238326283240047), (2758, 0.016351269394814277), (2759, 0.0016574842026956483), (2760, 0.0020334337533765745), (2761, 0.0015322426587908676), (2762, 0.0313353087658835), (2763, 0.018250565207394254), (2764, 0.0022532583987134383), (2765, 0.0018972514285751929), (2766, 0.0017411170307998867), (2767, 0.0014613832661904392), (2768, 0.0021792727724087337), (2769, 0.0020656251913118485), (2770, 0.015816356659072554), (2771, 0.0017934500720264198), (2772, 0.050258801138044616), (2773, 0.001721129558331299), (2774, 0.0014812792657969106), (2775, 0.096369789836188), (2776, 0.001688527217446896), (2777, 0.0345075773408358), (2778, 0.045690092840712335), (2779, 0.040202713035319956), (2780, 0.0017649524391765371), (2781, 0.019340173347834156), (2782, 0.01993566731481761), (2783, 0.0016662917655281414), (2784, 0.0017464306614060553), (2785, 0.002105254621937481), (2786, 0.001692142517094322), (2787, 0.001763776444301391), (2788, 0.0017682017050329837), (2789, 0.001560211157878196), (2790, 0.04584216647749936), (2791, 0.0016607400324759871), (2792, 0.0017796644798091774), (2793, 0.05513120875322389), (2794, 0.0021360154206261665), (2795, 0.0022518578357994226), (2796, 0.04310296378582368), (2797, 0.046016913039301714), (2798, 0.0017801750012818227), (2799, 0.017695065869143062), (2800, 0.0017521466016602266), (2801, 0.001493769224212824), (2802, 0.0019842107424064537), (2803, 0.0017927198160717546), (2804, 0.0016226486122592617), (2805, 0.0015185989315708887), (2806, 0.016166635279099503), (2807, 0.0019125471346501048), (2808, 0.03636064222856406), (2809, 0.001765186160976064), (2810, 0.020125096104298416), (2811, 0.0016924616479704621), (2812, 0.014919082752003108), (2813, 0.01669857686544731), (2814, 0.017442231158907), (2815, 0.0017906566637129597), (2816, 0.001773670102889522), (2817, 0.0021298758851528584), (2818, 0.0025266338768560504), (2819, 0.0017913477506112713), (2820, 0.0016237321648799664), (2821, 0.0017914170909095256), (2822, 0.0016995030708657677), (2823, 0.0015699823105707568), (2824, 0.03828169853353456), (2825, 0.03288639833497497), (2826, 0.0016839020459558385), (2827, 0.0015670463014337164), (2828, 0.0016408488464980673), (2829, 0.0018933824425409233), (2830, 0.05267081095583815), (2831, 0.01725852566329193), (2832, 0.00207927267780328), (2833, 0.10274297310340587), (2834, 0.002317160150115269), (2835, 0.01585992667236573), (2836, 0.0017843086022219816), (2837, 0.0019060054403273435), (2838, 0.002370854402590374), (2839, 0.001611325770997116), (2840, 0.002219027499310638), (2841, 0.001792567429759353), (2842, 0.03204578478907694), (2843, 0.0017324938977005715), (2844, 0.016906738179000305), (2845, 0.002084933392589391), (2846, 0.0018491247138079832), (2847, 0.0018081638214858425), (2848, 0.001924152687768174), (2849, 0.0), (2850, 0.001722307823711584), (2851, 1.0000000000000002), (2852, 0.0020167503091446807), (2853, 0.0018638674080704064), (2854, 0.0022482766006469332), (2855, 0.0017399805443007537), (2856, 0.01577075234882073), (2857, 0.00227245784349553), (2858, 0.0022455808633133796), (2859, 0.0016368261652643108), (2860, 0.0018735164957071238), (2861, 0.0021001587489995074), (2862, 0.001666079705029705), (2863, 0.0017494332252907406), (2864, 0.001815557175510861), (2865, 0.0018473753751942726), (2866, 0.0016098967286677002), (2867, 0.014308170062201867), (2868, 0.002020341029769163), (2869, 0.002442282148394556), (2870, 0.002143608087467719), (2871, 0.001523580673633303), (2872, 0.0018244137765936212), (2873, 0.22776417327267573), (2874, 0.0019034862531913008), (2875, 0.002000150757009047), (2876, 0.0015606967102793896), (2877, 0.0018555630492118045), (2878, 0.0019753665118418845), (2879, 0.0019275993535819585), (2880, 0.0017073846597877983), (2881, 0.001785874008029173), (2882, 0.0021421905814962327), (2883, 0.0021376915899324537), (2884, 0.002122303419207909), (2885, 0.009240320377949415), (2886, 0.0), (2887, 0.043074317308694834), (2888, 0.0017024006019218942), (2889, 0.08052517418089339), (2890, 0.0017484705596673357), (2891, 0.0022411351892372856), (2892, 0.002138239984444123), (2893, 0.0017898240185682003), (2894, 0.001839923131200798), (2895, 0.0018920902783894009), (2896, 0.01582618718307494), (2897, 0.0018152919907410657), (2898, 0.0017163446864010155), (2899, 0.0016922749347610252), (2900, 0.0), (2901, 0.018853655823987514), (2902, 0.0016066235758653712), (2903, 0.04360090667523944), (2904, 0.0019552163320211437), (2905, 0.001632133968907375), (2906, 0.0016371663577829981), (2907, 0.065375490137474), (2908, 0.001813366374043977), (2909, 0.017857059598948854), (2910, 0.0018831758623581967), (2911, 0.0018720864498633707), (2912, 0.0016904497634253383), (2913, 0.0013944059706266264), (2914, 0.001789241276071586), (2915, 0.0016663762546699715), (2916, 0.016450264134331496), (2917, 0.0015265164036348787), (2918, 0.001723478978920498), (2919, 0.001823336251671323), (2920, 0.001744622402881888), (2921, 0.0018966138002035403), (2922, 0.0021556391472475817), (2923, 0.04633646734731232), (2924, 0.0019061200527868186), (2925, 0.0017728406988710215), (2926, 0.001649254436925964), (2927, 0.017385430643637848), (2928, 0.002044699201972675), (2929, 0.044939639304807294), (2930, 0.0016887900120939215), (2931, 0.015898218053882394), (2932, 0.002092949961187909), (2933, 0.0), (2934, 0.001585225438495343), (2935, 0.0015694626254305476), (2936, 0.0017865374047652293), (2937, 0.047844111951935935), (2938, 0.014907069708517047), (2939, 0.0019670296052258828), (2940, 0.03914976100514185), (2941, 0.0020345169778930887), (2942, 0.0016328683285727712), (2943, 0.0015706616784537126), (2944, 0.0017744506166338238), (2945, 0.001742243707931399), (2946, 0.0), (2947, 0.0019920917799970653), (2948, 0.0020633811727475207), (2949, 0.002026631471520191), (2950, 0.0015996896674840859), (2951, 0.002094326281192691), (2952, 0.0020827085380114283), (2953, 0.0018219678446068518), (2954, 0.03931596390809341), (2955, 0.001594862808898135), (2956, 0.0020090332929000613), (2957, 0.002211876866803311), (2958, 0.08860314046762714), (2959, 0.038741562525249844), (2960, 0.001707843066294988), (2961, 0.001535200157173014), (2962, 0.0016613719997516595), (2963, 0.0019099256427273976), (2964, 0.001827554012193185), (2965, 0.04629627048050814), (2966, 0.0019258410122903805), (2967, 0.0017679081511442788), (2968, 0.001957310066075607), (2969, 0.0017105590717871478), (2970, 0.0016884062797864496), (2971, 0.0), (2972, 0.01600755863917255), (2973, 0.0016641098728210765), (2974, 0.0017767986327456293), (2975, 0.0018767935420256228), (2976, 0.013881412629819633), (2977, 0.001824939004388759), (2978, 0.0018825470953680614), (2979, 0.0017185189811560614), (2980, 0.01642322261400305), (2981, 0.0016746685734392059), (2982, 0.001904666766154647), (2983, 0.001971610979654502), (2984, 0.0016270768140847634), (2985, 0.001666028623952584), (2986, 0.0018733102054809669), (2987, 0.001801330302772821), (2988, 0.001842595616941178), (2989, 0.0022076765417760307), (2990, 0.00212996256004459), (2991, 0.0015907334892563683), (2992, 0.0016740659087884874), (2993, 0.0019114236054121006), (2994, 0.0016807889777247544), (2995, 0.0017396288525427753), (2996, 0.001978514285747619), (2997, 0.0), (2998, 0.02201369878380735), (2999, 0.0015719229515513673), (3000, 0.06816156606782053), (3001, 0.001969817894030638), (3002, 0.0016936795606392926), (3003, 0.017870202334259906), (3004, 0.0020862395732276673), (3005, 0.0017931128756517787), (3006, 0.03328151934065923), (3007, 0.040299224691304224), (3008, 0.0017589902261410453), (3009, 0.0022184517036843363), (3010, 0.0019821895162182514), (3011, 0.0017582875680827615), (3012, 0.03587212854591158), (3013, 0.0019669990266726837), (3014, 0.0016718691387270055), (3015, 0.0019945346803410713), (3016, 0.0016167464263847774), (3017, 0.0703094080697004), (3018, 0.002361504919813353), (3019, 0.0018430135430741383), (3020, 0.0019036722002505589), (3021, 0.030305926536677817), (3022, 0.0021200517241273128), (3023, 0.031458968600528985), (3024, 0.0), (3025, 0.0019511230324256012), (3026, 0.0017407958165609873), (3027, 0.1507927548020941), (3028, 0.036197682368424015), (3029, 0.0016606712372296), (3030, 0.0021465029867092085), (3031, 0.05248800480121898), (3032, 0.0017731185929057973), (3033, 0.18690366281439405), (3034, 0.0015698373799577035), (3035, 0.0015075876149563325), (3036, 0.001959807964726076), (3037, 0.0), (3038, 0.0), (3039, 0.002032394865112707), (3040, 0.0022119898471620963), (3041, 0.0017548177340456184), (3042, 0.0021427951089783414), (3043, 0.0021492066795586757), (3044, 0.001719286295317895), (3045, 0.0016875323016362987), (3046, 0.14379650422281526), (3047, 0.001698367533966672), (3048, 0.0016770520376865044), (3049, 0.001966998856738532), (3050, 0.001432982471756229), (3051, 0.0022592123701225555), (3052, 0.0021634813018261883), (3053, 0.0019925221039740443), (3054, 0.002138598682444558), (3055, 0.0021508183256952603), (3056, 0.0016413049665618745), (3057, 0.0), (3058, 0.01517150451439388), (3059, 0.0), (3060, 0.0022031721175334346), (3061, 0.0017975261013700194), (3062, 0.0), (3063, 0.03199989470099003), (3064, 0.00172363406080415), (3065, 0.0), (3066, 0.014877097171471315), (3067, 0.03549195217163594), (3068, 0.0016865037840143229), (3069, 0.0017476173093483672), (3070, 0.0), (3071, 0.1316802748347965), (3072, 0.0018420301118348271), (3073, 0.0017004665836753922), (3074, 0.001944000785872098), (3075, 0.0015909024448136193), (3076, 0.056147148648241815), (3077, 0.0016410402714198474), (3078, 0.018849772490375036), (3079, 0.0), (3080, 0.04700347258654224), (3081, 0.017174425594760546), (3082, 0.0016709978466366863), (3083, 0.09502117607045592), (3084, 0.015492144034096706), (3085, 0.0017921546202995695), (3086, 0.001884926620331931), (3087, 0.0019991560485568185), (3088, 0.0023543787008601666), (3089, 0.019727925013022347), (3090, 0.0018899370476690236), (3091, 0.015180277991494271), (3092, 0.0018909622739115468), (3093, 0.0015302276072689518), (3094, 0.03870814526844968), (3095, 0.0018276506529926234), (3096, 0.014382022066331709), (3097, 0.0019231678313292317), (3098, 0.0017332999690637839), (3099, 0.0015160855088853895), (3100, 0.001546673241006133), (3101, 0.0022148225266562017), (3102, 0.0018682355722499122), (3103, 0.0019066196578263884), (3104, 0.0017995824431027434), (3105, 0.001547963497203066), (3106, 0.0017584361210008), (3107, 0.001641757705332438), (3108, 0.04540055313122162), (3109, 0.0019708425262971473), (3110, 0.0021037356497895254), (3111, 0.016147394858080942), (3112, 0.0155805530709564), (3113, 0.001580069828545828), (3114, 0.0016856066481331844), (3115, 0.002465546053102722), (3116, 0.002237397190134285), (3117, 0.0019752716314716205), (3118, 0.0), (3119, 0.0021596048680524054), (3120, 0.0017391286433985314), (3121, 0.016274742423176714), (3122, 0.0016898088756803252), (3123, 0.001928036694004404), (3124, 0.04171215567039009), (3125, 0.0018209923683434738), (3126, 0.0016925190569240204), (3127, 0.0020626324246763644), (3128, 0.0019816827232776967), (3129, 0.0017214783812753423), (3130, 0.001791982223686141), (3131, 0.0018229400799729535), (3132, 0.048114017685607156), (3133, 0.04795737898076922), (3134, 0.046420920651851404), (3135, 0.001566527626933296), (3136, 0.00170233847806641), (3137, 0.01858240149505003), (3138, 0.011435484248593638), (3139, 0.0022422475960724554), (3140, 0.0024294839966807805), (3141, 0.016753518192022747), (3142, 0.030677915695736357), (3143, 0.0019530823739916032), (3144, 0.013473660057824851), (3145, 0.002218085117813258), (3146, 0.0017588499441830228), (3147, 0.001648971291838435), (3148, 0.0017853831118169762), (3149, 0.0019589324287693968), (3150, 0.0017081870337106347), (3151, 0.01715813682794145), (3152, 0.0013131744851806542), (3153, 0.0017731449768743903), (3154, 0.0021360380513449646), (3155, 0.001690916708681761), (3156, 0.0016209359869466381), (3157, 0.002066185638870332), (3158, 0.0018776370182506637), (3159, 0.002253378850530221), (3160, 0.0015143860680702384), (3161, 0.0017226402474786226), (3162, 0.001807020974148991), (3163, 0.04062473518312976), (3164, 0.0017773253606170332), (3165, 0.0018193990454037391), (3166, 0.0022992699121408586), (3167, 0.0016721670696059458), (3168, 0.0021513642676779026), (3169, 0.0018433842033978363), (3170, 0.0), (3171, 0.0), (3172, 0.00203195068530188), (3173, 0.0016165134139338071), (3174, 0.001699885273061517), (3175, 0.0020483436907368672), (3176, 0.0038299212366727582), (3177, 0.002135295424178526), (3178, 0.002502985417209054), (3179, 0.0018098113334400262), (3180, 0.001857136664311398), (3181, 0.017512611870241876), (3182, 0.0018510944936641403), (3183, 0.001940143526085927), (3184, 0.03973294683321112), (3185, 0.002402565347999091), (3186, 0.0019299375398786017), (3187, 0.016022649317090607), (3188, 0.0018969033660288612), (3189, 0.09205893142607016), (3190, 0.001981927652261035), (3191, 0.04971405575965445), (3192, 0.0019140926246720884), (3193, 0.0018371065411234469), (3194, 0.0017481086712685938), (3195, 0.03487016888337252), (3196, 0.0018727353069684014), (3197, 0.0017934504099032336), (3198, 0.001869712775383083), (3199, 0.0), (3200, 0.001486311253080689), (3201, 0.0015995657545136476), (3202, 0.0019712106468779394), (3203, 0.001908639596283783), (3204, 0.02170304607236648), (3205, 0.026086391719358133), (3206, 0.041164697891479765), (3207, 0.0018938369562748803), (3208, 0.017228679655771205), (3209, 0.0016912223151841095), (3210, 0.0016930658566764757), (3211, 0.01217823223492081), (3212, 0.013318178005158715), (3213, 0.0018404248779612272), (3214, 0.0), (3215, 0.0297878425769668), (3216, 0.0017552892084791384), (3217, 0.002040950378252659), (3218, 0.0023136273144942006), (3219, 0.061701706054113396), (3220, 0.0021581188989353564), (3221, 0.020258960120986203), (3222, 0.0015123997769839492), (3223, 0.0017549557151169243), (3224, 0.0016257548244586156), (3225, 0.0017955244998191326), (3226, 0.001629978480868644), (3227, 0.0022508780208934883), (3228, 0.0021703651229038425), (3229, 0.0176605750055572), (3230, 0.0019425285267676087), (3231, 0.001463591080433583), (3232, 0.0017824670695342703), (3233, 0.0017663130640604703), (3234, 0.020648227008521626), (3235, 0.0019063245810676604), (3236, 0.018333041620391056), (3237, 0.001807127873093782), (3238, 0.0017079375711878996), (3239, 0.001983136680999217), (3240, 0.06470173778805917), (3241, 0.03693684280705679), (3242, 0.001928786019646973), (3243, 0.0016509093446004381), (3244, 0.0016674962668813123), (3245, 0.0015868399660193915), (3246, 0.001747440193954184), (3247, 0.0015283904956174378), (3248, 0.0), (3249, 0.001976619648002888), (3250, 0.0016340789502901144), (3251, 0.0019525008740716257), (3252, 0.0018840551704774773), (3253, 0.002863275071629758), (3254, 0.0), (3255, 0.0020180247447067535), (3256, 0.021424498989401387), (3257, 0.0019057695575637559), (3258, 0.0), (3259, 0.0018253490191637574), (3260, 0.0017711793300064327), (3261, 0.0031697930411475734), (3262, 0.0020381423175954315), (3263, 0.0017244857113575282), (3264, 0.001943608710296861), (3265, 0.0018204704255967848), (3266, 0.0021819278956018663), (3267, 0.00205459686719356), (3268, 0.0), (3269, 0.00193928933839583), (3270, 0.0016457651690696465), (3271, 0.0019349659248033106), (3272, 0.017083971961758954), (3273, 0.040016096531741444), (3274, 0.0), (3275, 0.0022339331796413092), (3276, 0.0023905140650965066), (3277, 0.00202511155839414), (3278, 0.0015722790985409152), (3279, 0.0015834979781146335), (3280, 0.0015636093787710637), (3281, 0.0019652624799028364), (3282, 0.002282417589222362), (3283, 0.002058260642515928), (3284, 0.0022572243375375157), (3285, 0.0), (3286, 0.01475788393582999), (3287, 0.016634722558666874), (3288, 0.0016508935216945214), (3289, 0.0018946322619044827), (3290, 0.0018173789448296498), (3291, 0.0021267564273288733), (3292, 0.0020625957349657545), (3293, 0.001611214621641846), (3294, 0.0018978379615563082), (3295, 0.0015676535881150606), (3296, 0.0), (3297, 0.018642131168597576), (3298, 0.0017787071333709979), (3299, 0.002018089315197986), (3300, 0.0016000813696184304), (3301, 0.029590908331035806), (3302, 0.002317269083979666), (3303, 0.002018206791866664), (3304, 0.0014906101911228513), (3305, 0.03785408857174813), (3306, 0.0018631140685412349), (3307, 0.0018344976319921945), (3308, 0.002084353367571537), (3309, 0.0014992382484781937), (3310, 0.001770946218803573), (3311, 0.03028444696862939), (3312, 0.048868741088058304), (3313, 0.001770463551143579), (3314, 0.001971982543058063), (3315, 0.001846090658527093), (3316, 0.0018997443784022816), (3317, 0.0013664834739749256), (3318, 0.0016691030476206595), (3319, 0.0016531893193310662), (3320, 0.0015368167050855868), (3321, 0.0018566125147126966), (3322, 0.11330856221077484), (3323, 0.009052888797701034), (3324, 0.001861564954634575), (3325, 0.006900985248129136), (3326, 0.0017632792331438412), (3327, 0.001575502829172554), (3328, 0.0016780310426561262), (3329, 0.0017442678834953223), (3330, 0.0017628036556505409), (3331, 0.0016271398282396363), (3332, 0.00178447818782499), (3333, 0.0015503147484091581), (3334, 0.038061124995889546), (3335, 0.016072509177392943), (3336, 0.001833682839632968), (3337, 0.0017997322167941589), (3338, 0.0015681069692213667), (3339, 0.002174345788120862), (3340, 0.0), (3341, 0.0018250580029487214), (3342, 0.0016428580322815388), (3343, 0.0018967757755492815), (3344, 0.001904343347802288), (3345, 0.0023368792152172664), (3346, 0.0017498497176381817), (3347, 0.0), (3348, 0.001746935433397168), (3349, 0.0), (3350, 0.0017974465415203883), (3351, 0.0021652764894900278), (3352, 0.0017266576654333132), (3353, 0.0019441562324651687), (3354, 0.0019941576145540898), (3355, 0.0018211999289132136), (3356, 0.03287575450593624), (3357, 0.0022404492216553354), (3358, 0.0019040282053148915), (3359, 0.001842559779449523), (3360, 0.015801081063891588), (3361, 0.0015973721061212892), (3362, 0.03527381368490304), (3363, 0.0021248900005419085), (3364, 0.002227463748906988), (3365, 0.0), (3366, 0.015853376639227954), (3367, 0.0018453257801119905), (3368, 0.0016088117601550963), (3369, 0.001707727544597931), (3370, 0.0019713277223552196), (3371, 0.0017541905919410876), (3372, 0.0016572796832771302), (3373, 0.001892920406944107), (3374, 0.0), (3375, 0.0018443837297273454), (3376, 0.0016483798152013098), (3377, 0.002186567671967668), (3378, 0.0017574395616970812), (3379, 0.014975601092757524), (3380, 0.0017711095350095836), (3381, 0.0017257538535591845), (3382, 0.002003579074535647), (3383, 0.0), (3384, 0.0020722004825089613), (3385, 0.0019543451112070545), (3386, 0.001773890957091757), (3387, 0.001895616174210714), (3388, 0.0018586434044879623), (3389, 0.015817730102088402), (3390, 0.016874231940787583), (3391, 0.001752852507008233), (3392, 0.0), (3393, 0.0017162204364404398), (3394, 0.0), (3395, 0.016848988350586416), (3396, 0.04359517938389355), (3397, 0.014304877936834213), (3398, 0.0017751375753629526), (3399, 0.0), (3400, 0.001705260016824047), (3401, 0.001788322712454126), (3402, 0.0017039228700764177), (3403, 0.038184129134520774), (3404, 0.0017369404430914405), (3405, 0.001564867377118536), (3406, 0.001853602379550727), (3407, 0.0016635616616164908), (3408, 0.0020658077583786366), (3409, 0.0), (3410, 0.0018176583485295461), (3411, 0.0015070496027378218), (3412, 0.0018396244182074415), (3413, 0.0018963475152275675), (3414, 0.0020831463520439406), (3415, 0.002075760840639809), (3416, 0.03073036528919248), (3417, 0.0017222629383174112), (3418, 0.0015752214334903121), (3419, 0.0018183280964625271), (3420, 0.01046164195996377), (3421, 0.0012795624313549127), (3422, 0.0023736294282652557), (3423, 0.0018018230931213758), (3424, 0.0019945257117558774), (3425, 0.002025656230126026), (3426, 0.03907371846157993), (3427, 0.0019156664612269717), (3428, 0.0022363449250379576), (3429, 0.00118924601877079), (3430, 0.0), (3431, 0.0), (3432, 0.0016410128198344072), (3433, 0.00164556913111931), (3434, 0.03671163740782836), (3435, 0.0017881448672806902), (3436, 0.001753472278828169), (3437, 0.0017440005438250858), (3438, 0.03983236135611872), (3439, 0.0020547652793338265), (3440, 0.0019391038331126687), (3441, 0.0015687007997129132), (3442, 0.0017972763403365172), (3443, 0.0017804001515486318), (3444, 0.017267221420954614), (3445, 0.0017471203370799735), (3446, 0.0017857890171868195), (3447, 0.001861646055094342), (3448, 0.002114418536939527), (3449, 0.001953213604896105), (3450, 0.0019444715546954765), (3451, 0.0017707874301788231), (3452, 0.0015095453744184033), (3453, 0.001873007421237544), (3454, 0.0018221352252662175), (3455, 0.0), (3456, 0.04021468761619333), (3457, 0.01724958077107104), (3458, 0.0018467269130553086), (3459, 0.015321025577518283), (3460, 0.001752204535712341), (3461, 0.017017849907667335), (3462, 0.0017414293258708167), (3463, 0.0017768777525922468), (3464, 0.0018474193015462798), (3465, 0.0015493172945180748), (3466, 0.0016619301530476503), (3467, 0.0017977417181872471), (3468, 0.0017917444142459408), (3469, 0.002054754024252405), (3470, 0.0018429288223162212), (3471, 0.001331274614724397), (3472, 0.018603693471323176), (3473, 0.016664967816994357), (3474, 0.001715107231842077), (3475, 0.002574114631943787), (3476, 0.015574320251009157), (3477, 0.0020145289405058804), (3478, 0.0017200752786556304), (3479, 0.0021127546883981333), (3480, 0.0015658787273669355), (3481, 0.010892522727219522), (3482, 0.01585211758765626), (3483, 0.1039083647223075), (3484, 0.0015579187913749093), (3485, 0.014266988532537815), (3486, 0.0017385731665343174), (3487, 0.0017258289401775213), (3488, 0.0), (3489, 0.0019172515216998244), (3490, 0.0017109438192246433), (3491, 0.0016905532467751693), (3492, 0.04841466622833508), (3493, 0.0017546492477075887), (3494, 0.0017465081818762722), (3495, 0.0015903037380079487), (3496, 0.0018008604198453313), (3497, 0.0019041074932226603), (3498, 0.00172222940431227), (3499, 0.0017778091945012417), (3500, 0.0), (3501, 0.001601777517239879), (3502, 0.0021073715329391163), (3503, 0.01784882889687294), (3504, 0.0018696004208117937), (3505, 0.017634128048682213), (3506, 0.0025104606205049924), (3507, 0.0017817838364701498), (3508, 0.0017552703890130735), (3509, 0.0017436984106280107), (3510, 0.0020129116849325794), (3511, 0.001802319043460298), (3512, 0.002428608361230894), (3513, 0.0016604754708696842), (3514, 0.0019055021009780195), (3515, 0.0020932862645251173), (3516, 0.0019343797994893141), (3517, 0.0017959570239774929), (3518, 0.0018247698785760658), (3519, 0.0018781110989783483), (3520, 0.0016886748724964508), (3521, 0.0019412135982170542), (3522, 0.0017184534886465388), (3523, 0.002262095579772862), (3524, 0.052234237742492085), (3525, 0.0014171618069208458), (3526, 0.0), (3527, 0.0), (3528, 0.0016272979302570476), (3529, 0.001912014561491012), (3530, 0.0), (3531, 0.038005668395599795), (3532, 0.0019252163457815301), (3533, 0.04984068204177663), (3534, 0.0), (3535, 0.0018567795325005018), (3536, 0.016442591295330742), (3537, 0.0025725765116841742), (3538, 0.001468967295123329), (3539, 0.01767966396579545), (3540, 0.017000464349118425), (3541, 0.0016816008806066938), (3542, 0.0296206015343215), (3543, 0.0016228735064634718), (3544, 0.0019262274511157812), (3545, 0.05921617067580333), (3546, 0.032089223489796384), (3547, 0.0018337649166264296), (3548, 0.0013895043579177338), (3549, 0.0017038558654427877), (3550, 0.001529389921485472), (3551, 0.0017969108636394409), (3552, 0.002574090496904307), (3553, 0.0), (3554, 0.017603896574102346), (3555, 0.0018357789802480242), (3556, 0.0018353955964824562), (3557, 0.057186741753105605), (3558, 0.0), (3559, 0.001570309605904931), (3560, 0.0019054070958133636), (3561, 0.0023635001871706906), (3562, 0.01572433145203498), (3563, 0.0016800708361055345), (3564, 0.001839028240107662), (3565, 0.001891368197451702), (3566, 0.0018783712187911872), (3567, 0.0016123314789764482), (3568, 0.030236462111827508), (3569, 0.0017605708844969949), (3570, 0.03510680266336822), (3571, 0.0017722575321818589), (3572, 0.00211474484971924), (3573, 0.0018472251702108104), (3574, 0.040891872586240274), (3575, 0.03146035309195162), (3576, 0.0016011152902330474), (3577, 0.002484510563732882), (3578, 0.0023211850088082067), (3579, 0.0), (3580, 0.0018045651496485517), (3581, 0.0160870476710608), (3582, 0.03604226883013567), (3583, 0.001691316303927697), (3584, 0.0018307154540670298), (3585, 0.0017731786931065151), (3586, 0.0018188613420822043), (3587, 0.05214668898808922), (3588, 0.039748589890081946), (3589, 0.0016141311117172693), (3590, 0.0016815217563646973), (3591, 0.0018554920962458765), (3592, 0.0019642756079480913), (3593, 0.043151095204778535), (3594, 0.0019047296470100013), (3595, 0.0016715368089914656), (3596, 0.0017586038174707728), (3597, 0.0017187521439191093), (3598, 0.0015117673125518572), (3599, 0.001733256468856961), (3600, 0.001778098942413981), (3601, 0.0019231033258474096), (3602, 0.036893802825926275), (3603, 0.0017773015412144457), (3604, 0.001993549219254453), (3605, 0.001863401442313868), (3606, 0.015629327590711273), (3607, 0.07463191327615078), (3608, 0.0), (3609, 0.001576307869922123), (3610, 0.019438817760771502), (3611, 0.0020034628809218625), (3612, 0.001930188362746775), (3613, 0.01810419035906826), (3614, 0.0016616116639679849), (3615, 0.0), (3616, 0.0024038582609664095), (3617, 0.0018321601877741079), (3618, 0.0018063388297287625), (3619, 0.0015270836308765), (3620, 0.017863466518216183), (3621, 0.0018505062560931608), (3622, 0.001649999797823239), (3623, 0.0017655126037530648), (3624, 0.0017495567030330495), (3625, 0.0), (3626, 0.0013519015081622592), (3627, 0.0), (3628, 0.016963070941240194), (3629, 0.0), (3630, 0.0014956303758316793), (3631, 0.017249101481694576), (3632, 0.001724230129309453), (3633, 0.01521840772950888), (3634, 0.0), (3635, 0.0021405862878778998), (3636, 0.0016307660430767107), (3637, 0.0016597872185075135), (3638, 0.0024410362165416424), (3639, 0.002068734058307082), (3640, 0.0018211233674495706), (3641, 0.0016575999980751827), (3642, 0.0017598156516687195), (3643, 0.016715422824883232), (3644, 0.0016551964517528162), (3645, 0.0), (3646, 0.001621367044531164), (3647, 0.0017985410844922024), (3648, 0.0018676950900929693), (3649, 0.0020839549507825736), (3650, 0.016218960160761613), (3651, 0.0), (3652, 0.0), (3653, 0.0017597149510291202), (3654, 0.0018419452211354528), (3655, 0.0018442838066359026), (3656, 0.0018354181770949423), (3657, 0.001460285443253669), (3658, 0.00167099957706746), (3659, 0.0019098216372501078), (3660, 0.0016616875786440394), (3661, 0.001734282681390778), (3662, 0.03769683505181307), (3663, 0.0038082232880637733), (3664, 0.0016140222327762311), (3665, 0.001795171599340479), (3666, 0.03845212463018013), (3667, 0.0014905541437338654), (3668, 0.001596247956869349), (3669, 0.0), (3670, 0.04137954389007026), (3671, 0.020233520165001663), (3672, 0.0022264827253019354), (3673, 0.015939564432230977), (3674, 0.0014113779151528037), (3675, 0.0018890554102110864), (3676, 0.001601701425779436), (3677, 0.0019320216013314511), (3678, 0.0019325821872674552), (3679, 0.0033231407054365733), (3680, 0.042649680650639066), (3681, 0.001920243491160135), (3682, 0.01599637997431131), (3683, 0.0019709122629139593), (3684, 0.0016384305911555604), (3685, 0.015996563107721296), (3686, 0.0018802768941186569), (3687, 0.001975059660064569), (3688, 0.0018923340277008436), (3689, 0.0018615719029933726), (3690, 0.0018132335612278164), (3691, 0.0016137008402475918), (3692, 0.00183325778542375), (3693, 0.0015307802824081722), (3694, 0.0017674453816422001), (3695, 0.017996742199286698), (3696, 0.001717834211323883), (3697, 0.0018692406584914824), (3698, 0.0016223041225098959), (3699, 0.001925403453043369), (3700, 0.03365132599523406), (3701, 0.018283353230612368), (3702, 0.0020807421298769777), (3703, 0.002333662073198357), (3704, 0.015667987779223295), (3705, 0.03740557691907044), (3706, 0.001722007902658789), (3707, 0.0016116291442126256), (3708, 0.002002585622938424), (3709, 0.001736762093007387), (3710, 0.0018384899760832182), (3711, 0.0017374244290721062), (3712, 0.03199044854813612), (3713, 0.0013363326477947375), (3714, 0.0017146051134996681), (3715, 0.04308341847935755), (3716, 0.01452490470747679), (3717, 0.00227813880828524), (3718, 0.0017457016578494103), (3719, 0.0), (3720, 0.0015734943685736657), (3721, 0.0), (3722, 0.08401670744440856), (3723, 0.001585992595302072), (3724, 0.00177658458323232), (3725, 0.04172682942459893), (3726, 0.0131987207147065), (3727, 0.0798498510524071), (3728, 0.016937962139811576), (3729, 0.001828837662112307), (3730, 0.0022475476946963104), (3731, 0.0016701393063285582), (3732, 0.001447710698851314), (3733, 0.0016046281308662864), (3734, 0.0015700088949341187), (3735, 0.01697692388787479), (3736, 0.0018967176648253307), (3737, 0.0019168717347063898), (3738, 0.0015999056799068149), (3739, 0.002050282263617999), (3740, 0.002001844567498742), (3741, 0.0021036707472138435), (3742, 0.0016312038213653105), (3743, 0.001800569621281174), (3744, 0.040344491597757784), (3745, 0.0018207483061240186), (3746, 0.0016247789185840304), (3747, 0.03290684073450652), (3748, 0.0017532148805671952), (3749, 0.001725230330945761), (3750, 0.00132531558730307), (3751, 0.05329356131834974), (3752, 0.016315916749041738), (3753, 0.01563271973202082), (3754, 0.0021628287330426707), (3755, 0.0), (3756, 0.032757491458793454), (3757, 0.001894071362231611), (3758, 0.0020612587044531), (3759, 0.0020128736564123165), (3760, 0.0028175087036915137), (3761, 0.0), (3762, 0.002064375843982691), (3763, 0.020559095477173727), (3764, 0.002554705659836054), (3765, 0.0018555730571822196), (3766, 0.002106666045395328), (3767, 0.0016267384807293155), (3768, 0.0016992398286905968), (3769, 0.0018424982788781163), (3770, 0.001829589537531142), (3771, 0.045043826723393396), (3772, 0.0), (3773, 0.0017154133269192183), (3774, 0.0019024076347848643), (3775, 0.0019188014418457155), (3776, 0.001457217414196739), (3777, 0.001879356575448477), (3778, 0.001957019749674238), (3779, 0.0019083704063271275), (3780, 0.0018895186159725691), (3781, 0.0016599142072058557), (3782, 0.0017209397424612152), (3783, 0.001736537939128043), (3784, 0.0016982675472461003), (3785, 0.014831231533167366), (3786, 0.0016403123533507567), (3787, 0.0018534037407505351), (3788, 0.028880375350440465), (3789, 0.0020872666050648675), (3790, 0.017607059216669), (3791, 0.0019036858868628232), (3792, 0.0018300580670576516), (3793, 0.0017452119260745196), (3794, 0.0017617011003662655), (3795, 0.0015155246919888055), (3796, 0.020304769383066426), (3797, 0.0019087774754235134), (3798, 0.0017829454640068392), (3799, 0.0), (3800, 0.0), (3801, 0.0015331526795936805), (3802, 0.0019100524746959913), (3803, 0.014321293628167467), (3804, 0.04405405327090888), (3805, 0.012890640692740289), (3806, 0.0), (3807, 0.0017287938803257333), (3808, 0.001754021449591039), (3809, 0.04419279552450554), (3810, 0.0019064930021604086), (3811, 0.0017594381037880896), (3812, 0.016624899457597528), (3813, 0.018052154466290927), (3814, 0.0016721791762664862), (3815, 0.0018419489309328715), (3816, 0.017436376712599205), (3817, 0.018974214366230112), (3818, 0.0017055191020964346), (3819, 0.0015852402135599613), (3820, 0.13998787643205154), (3821, 0.00155180422322565), (3822, 0.018933626056288698), (3823, 0.0017015604948567155), (3824, 0.0016427181098032729), (3825, 0.0015608976953783058), (3826, 0.0018595277058845025), (3827, 0.0015541023820514024), (3828, 0.03722047583573757), (3829, 0.0017896280114546627), (3830, 0.0015210010738493502), (3831, 0.001990774267281376), (3832, 0.0019520804708946784), (3833, 0.0017408156520670787), (3834, 0.0018252439174103953), (3835, 0.001045900838956049), (3836, 0.0015186897833809009), (3837, 0.0018243978239452549), (3838, 0.0017599599613108035), (3839, 0.0016476270911301735), (3840, 0.0016686037253140556), (3841, 0.014575877292391945), (3842, 0.001585330493082225), (3843, 0.01876023972101566), (3844, 0.002152898778580956), (3845, 0.0017889314207828859), (3846, 0.01755812186917195), (3847, 0.01579180598181042), (3848, 0.0020077400501517153), (3849, 0.0018385923383117911), (3850, 0.001771958277789357), (3851, 0.0018115359595277016), (3852, 0.0015241531123948349), (3853, 0.001642417393590009), (3854, 0.0015070567474600315), (3855, 0.0017053451027486226), (3856, 0.0016687246863204084), (3857, 0.04356985497954379), (3858, 0.017569945193427642), (3859, 0.0016443762149432493), (3860, 0.0016337897953970673), (3861, 0.001530261236982635), (3862, 0.002116185273285244), (3863, 0.0015275929019351094), (3864, 0.0018123599699708716), (3865, 0.01554449496578073), (3866, 0.0020078605349678627), (3867, 0.001913528208057855), (3868, 0.001837300854857551), (3869, 0.001967831686975402), (3870, 0.0017411834525953769), (3871, 0.01643257740745159), (3872, 0.001637596303753656), (3873, 0.0017958693418088523), (3874, 0.0019333715099307733), (3875, 0.0017037408336337983), (3876, 0.0015670330864551863), (3877, 0.05215767404792535), (3878, 0.00227313544259856), (3879, 0.001688910151836793), (3880, 0.0015061847269206455), (3881, 0.0016412053766982362), (3882, 0.0016927598343807412), (3883, 0.002011839678470864), (3884, 0.0019654888148628036), (3885, 0.0016662685423273584), (3886, 0.037320505189941115), (3887, 0.0015811717128833079), (3888, 0.043005046912503835), (3889, 0.0018499397848605395), (3890, 0.0017759246636429768), (3891, 0.0020052670179512336), (3892, 0.061838819858416334), (3893, 0.001820374247176805), (3894, 0.013141500001029139), (3895, 0.0014375665110843996), (3896, 0.0016948370583951932), (3897, 0.001811659656453621), (3898, 0.0), (3899, 0.05264913653068936), (3900, 0.0015084665389935655), (3901, 0.00204442877925332), (3902, 0.0016385251647293357), (3903, 0.0020304249710742777), (3904, 0.029475360249411817), (3905, 0.0019937665809359167), (3906, 0.0019491302827585094), (3907, 0.0017734407412542698), (3908, 0.0017167981787484785), (3909, 0.0015381990639334387), (3910, 0.0015497340621650557), (3911, 0.0018628359581887844), (3912, 0.0019471088972816283), (3913, 0.0018472891318852844), (3914, 0.0018477424110807526), (3915, 0.0018791265932663604), (3916, 0.03653743188297373), (3917, 0.0015916558111908764), (3918, 0.003943304467524664), (3919, 0.0017141020541246838), (3920, 0.0017076300698080726), (3921, 0.0022022655882587626), (3922, 0.001956362830093028), (3923, 0.01440260870842201), (3924, 0.0019030721263689565), (3925, 0.0023559442056720384), (3926, 0.01652209817344368), (3927, 0.0), (3928, 0.0012698847800339055), (3929, 0.001634987272926477), (3930, 0.002180726928024402), (3931, 0.0018481795180089477), (3932, 0.0016429677303049408), (3933, 0.0), (3934, 0.001764051633016946), (3935, 0.001867281771886648), (3936, 0.0019899717065417545), (3937, 0.0016855018521813791), (3938, 0.017150077336411284), (3939, 0.002110383298500707), (3940, 0.00163637602958546), (3941, 0.0016203868747495468), (3942, 0.0021305416335715517), (3943, 0.01612924259825502), (3944, 0.0013148139419706325), (3945, 0.0045289016000736385), (3946, 0.0), (3947, 0.002182401873394154), (3948, 0.013881162321559237), (3949, 0.0021769518966253706), (3950, 0.002038385759942723), (3951, 0.0020321229047292923), (3952, 0.0), (3953, 0.033628261062177624), (3954, 0.00155483638485695), (3955, 0.0018433581634532295), (3956, 0.001766238602469114), (3957, 0.0015560329545615398), (3958, 0.0014887745560106982), (3959, 0.0017777155575368806), (3960, 0.0020142186481925564), (3961, 0.0019571212146703497), (3962, 0.0020057268489735527), (3963, 0.001772460018382695), (3964, 0.0021049913273058483), (3965, 0.03400839863653822), (3966, 0.001518655144971685), (3967, 0.08069153355724608), (3968, 0.001744224129618405), (3969, 0.0018964835082706899), (3970, 0.0018197186326403523), (3971, 0.0017369983825194178), (3972, 0.0019627992163919975), (3973, 0.001848933055823016), (3974, 0.0016235003713459973), (3975, 0.002239272628186069), (3976, 0.0019379823010811108), (3977, 0.0019230738105265194), (3978, 0.0016689753580882286), (3979, 0.0017587693030592293), (3980, 0.01338919043300035), (3981, 0.01046164195996377), (3982, 0.0017287347590109695), (3983, 0.0014779286383076171), (3984, 0.0019093899267454092), (3985, 0.0016922620208625), (3986, 0.0), (3987, 0.0016832153137325116), (3988, 0.001994490214581701), (3989, 0.03559803972437217), (3990, 0.06411457661948819), (3991, 0.014816101173242967), (3992, 0.002023441336224478), (3993, 0.0016817985697997176), (3994, 0.0016913607952713343), (3995, 0.0019613452089968716), (3996, 0.04121767086155186), (3997, 0.0018514626728346165), (3998, 0.0017850543579375226), (3999, 0.0019233239306113896), (4000, 0.0016568146324055725), (4001, 0.0018090990752728624), (4002, 0.0019460084021679209), (4003, 0.002623995745222662), (4004, 0.0017198831337188842), (4005, 0.0018244546810114507), (4006, 0.0017679665886907293), (4007, 0.056576062201282896), (4008, 0.0017917447274058034), (4009, 0.01577501063051492), (4010, 0.0189410127153615), (4011, 0.0017394235871998863), (4012, 0.0016973811289221806), (4013, 0.0018269051334739363), (4014, 0.0), (4015, 0.0), (4016, 0.0019872122907539395), (4017, 0.0021423983685021587), (4018, 0.0014357868231162092), (4019, 0.0020541471456385677), (4020, 0.017005233535230556), (4021, 0.020500891417585394), (4022, 0.0016218134745244403), (4023, 0.0022416782399449263), (4024, 0.001973045184984151), (4025, 0.09949901853881155), (4026, 0.010764627326768694), (4027, 0.001854640241190705), (4028, 0.0021052233909149886), (4029, 0.0016506888332158808), (4030, 0.0018550840396656348), (4031, 0.017631900016950145), (4032, 0.002415628226027419), (4033, 0.0020872117521775493), (4034, 0.017929504691706795), (4035, 0.0014608541899022499), (4036, 0.0017234210556584062), (4037, 0.015844888159769935), (4038, 0.0019089985558400848), (4039, 0.0019486699661766453), (4040, 0.05591079276755056), (4041, 0.0017440722577806533), (4042, 0.0017375113568939388), (4043, 0.001762518055791056), (4044, 0.0015345845804397447), (4045, 0.001970105135505162), (4046, 0.0019061057493607266), (4047, 0.0021076386747350415), (4048, 0.0017303335195087868), (4049, 0.0017967764994647208), (4050, 0.0019129354691882815), (4051, 0.002057067214607188), (4052, 0.0016202981274706207), (4053, 0.0016060203655497932), (4054, 0.0019968156233424413), (4055, 0.001790787367636071), (4056, 0.0016846467271033505), (4057, 0.0), (4058, 0.0020722181725466127), (4059, 0.0016161221817810503), (4060, 0.039917762352137974), (4061, 0.002089525975447165), (4062, 0.002230371489846585), (4063, 0.0015982134042141004), (4064, 0.0023406558539405685), (4065, 0.0046792185947611325), (4066, 0.012664502408023916), (4067, 0.00559855722138954), (4068, 0.0019005163689918188), (4069, 0.0016413334996559865), (4070, 0.0018030030688637), (4071, 0.0016101888531711414), (4072, 0.001436629896806516), (4073, 0.0017503334726463341), (4074, 0.0017218400249619102), (4075, 0.0018123996001455133), (4076, 0.0019548871730772624), (4077, 0.001886204265783047), (4078, 0.04052419664910515), (4079, 0.0), (4080, 0.001520279706373759), (4081, 0.0018615724504466742), (4082, 0.0025361860558439134), (4083, 0.001712939671876983), (4084, 0.0), (4085, 0.0017358620226950966), (4086, 0.0172405538104088), (4087, 0.0018705180347313448), (4088, 0.0018292878768032964), (4089, 0.040159819530073304), (4090, 0.05105494837412365), (4091, 0.001857428757683762), (4092, 0.0019155301925901837), (4093, 0.001702192967321081), (4094, 0.0018674330980410303), (4095, 0.0014422615328197501), (4096, 0.0017964142766216076), (4097, 0.03953890740905674), (4098, 0.0016882178659944084), (4099, 0.0156841782639704), (4100, 0.0017734093926044937), (4101, 0.03881733544762509), (4102, 0.002003935966954988), (4103, 0.0019250277075767205), (4104, 0.0015157351451431428), (4105, 0.0018171267613686147), (4106, 0.0016470621480637918), (4107, 0.0023889074194312163), (4108, 0.001886871947436149), (4109, 0.0016794599763596556), (4110, 0.0017685555393899713), (4111, 0.03711150632353709), (4112, 0.01660560534261531), (4113, 0.0020840470259467204), (4114, 0.001720271568525207), (4115, 0.0021343353885742945), (4116, 0.0019184398201522615), (4117, 0.001911766383334978), (4118, 0.017505855953574612), (4119, 0.0019750259015943643), (4120, 0.0018349938584328468), (4121, 0.0019313693220481514), (4122, 0.04867833468646579), (4123, 0.0018032351110667576), (4124, 0.0015901567321126855), (4125, 0.0019425682098544162), (4126, 0.0018423924447841112), (4127, 0.002093334936622005), (4128, 0.0017574786068862151), (4129, 0.0), (4130, 0.001927197772616402), (4131, 0.0016962621362997656), (4132, 0.001848647226348226), (4133, 0.0017115759443157535), (4134, 0.002157923975305795), (4135, 0.03204447047654983), (4136, 0.016297499982701), (4137, 0.001748479660287611), (4138, 0.00174919257475452), (4139, 0.0018312615761794549), (4140, 0.017318872228387582), (4141, 0.0014957310142313823), (4142, 0.0021218258591722402), (4143, 0.0015943747898625254), (4144, 0.0), (4145, 0.0018480384588313073), (4146, 0.016210055838208913), (4147, 0.05203342542020178), (4148, 0.0018156381269379019), (4149, 0.0018678621300938251), (4150, 0.001968849620085999), (4151, 0.0), (4152, 0.0018345690377346874), (4153, 0.0016835898067364297), (4154, 0.0016329614307306383), (4155, 0.0016670985673024954), (4156, 0.0015643534185196856), (4157, 0.0018766703558822757), (4158, 0.0018021388839668943), (4159, 0.001684813526274001), (4160, 0.01646149202743818), (4161, 0.00169920553753343), (4162, 0.03971466806582473), (4163, 0.0018375430368939795), (4164, 0.0018195505046622543), (4165, 0.0015722866387402434), (4166, 0.002035790423149364), (4167, 0.0018989470287631548), (4168, 0.01627324494113593), (4169, 0.0020472113240711793), (4170, 0.001997837784919572), (4171, 0.0), (4172, 0.002093296073943857), (4173, 0.017757725492361834), (4174, 0.0017709383019630064), (4175, 0.0017717499542180255), (4176, 0.0371219100651096), (4177, 0.0), (4178, 0.001854285361282008), (4179, 0.0018410599567301202), (4180, 0.0016474869013654364), (4181, 0.0018188266633817932), (4182, 0.0015662303017691763), (4183, 0.001762431705546522), (4184, 0.0017477207251137348), (4185, 0.0019407486850233225), (4186, 0.001555083880222666), (4187, 0.00200983057074851), (4188, 0.0017411742529562244), (4189, 0.04356357843995767), (4190, 0.017463448451510384), (4191, 0.014992927301081024), (4192, 0.0017468396090668129), (4193, 0.0015255507875902143), (4194, 0.05809082667665432), (4195, 0.01626286705289258), (4196, 0.018867033832185687), (4197, 0.0018546968603672573), (4198, 0.002074663073293472), (4199, 0.059110938296729386), (4200, 0.0018148875605357507), (4201, 0.005046919845057394), (4202, 0.002215414589278499), (4203, 0.0020401678350931846), (4204, 0.002198365519381045), (4205, 0.0015924833011668144), (4206, 0.0018661506595433381), (4207, 0.08723289868438112), (4208, 0.001979699135045637), (4209, 0.002109088222863159), (4210, 0.055916514413100415), (4211, 0.001906135380307922), (4212, 0.0016901015088359233), (4213, 0.0), (4214, 0.0022444546718864327), (4215, 0.00186559529997221), (4216, 0.03905512659402374), (4217, 0.0015969328469882405), (4218, 0.01602939055149556), (4219, 0.0020327958730571426), (4220, 0.001556954339289879), (4221, 0.0021178499365908164), (4222, 0.002123774224443482), (4223, 0.0023424439722412606), (4224, 0.0017310190282797118), (4225, 0.0019014763543484664), (4226, 0.0019051983358054163), (4227, 0.0017388941351794255), (4228, 0.0), (4229, 0.0), (4230, 0.0020304528584256377), (4231, 0.0016907867572259502), (4232, 0.0), (4233, 0.0018704491210315343), (4234, 0.0016107960586087694), (4235, 0.0015312554213981853), (4236, 0.0015232286588785745), (4237, 0.0018053702284163264), (4238, 0.001835581174619963), (4239, 0.0021872531019744334), (4240, 0.0019119736763128906), (4241, 0.0018014639111326055), (4242, 0.0021432176868349685), (4243, 0.0), (4244, 0.0018052934222827957), (4245, 0.0016819091259620564), (4246, 0.001823678446754442), (4247, 0.0016269203490129405), (4248, 0.0017155607944418462), (4249, 0.0016303298771041725), (4250, 0.0), (4251, 0.0017553170017286356), (4252, 0.001687725539677602), (4253, 0.0016476295640271224), (4254, 0.0), (4255, 0.001723593337851012), (4256, 0.0018764580587910928), (4257, 0.0016058495810360722), (4258, 0.01736819577458097), (4259, 0.017873551348000397), (4260, 0.0016326364248251722), (4261, 0.0014793454925003417), (4262, 0.04222483069896373), (4263, 0.002261990927601554), (4264, 0.0016522956176812278), (4265, 0.0018102997276836774), (4266, 0.0016965683935230757), (4267, 0.0022852064741243003), (4268, 0.0017278001021797426), (4269, 0.03513567836562827), (4270, 0.015378663796096604), (4271, 0.002388983315748845), (4272, 0.0016490135304605442), (4273, 0.001727425057497275), (4274, 0.0016045926718948637), (4275, 0.0017331666044977068), (4276, 0.0018353421156392749), (4277, 0.0018015644897207458), (4278, 0.0016676435864987412), (4279, 0.0016206893631314655), (4280, 0.0020668036080957208), (4281, 0.00203060427490558), (4282, 0.0017079277155186102), (4283, 0.0019476015759763603), (4284, 0.0018591103007116374), (4285, 0.0018571550564155303), (4286, 0.0021366001519749537), (4287, 0.001818655941463098), (4288, 0.0), (4289, 0.04029398000555419), (4290, 0.001610310708340963), (4291, 0.002148288809412191), (4292, 0.0), (4293, 0.0020026395147154487), (4294, 0.0017356719682636574), (4295, 0.0018015612961241722), (4296, 0.0), (4297, 0.001564337954609372), (4298, 0.0019205602612339698), (4299, 0.0017430705887647433), (4300, 0.0017076086221255002), (4301, 0.0), (4302, 0.0019907294244403658), (4303, 0.05200156818354261), (4304, 0.03183127613590081), (4305, 0.0015512651586299384), (4306, 0.0019552065259784727), (4307, 0.0020657438252252576), (4308, 0.0), (4309, 0.0016269311219674239), (4310, 0.001635392998593875), (4311, 0.0), (4312, 0.0017643309070511659), (4313, 0.002740407926574704), (4314, 0.01516620364640432), (4315, 0.0), (4316, 0.0018335504735501518), (4317, 0.03788781277033171), (4318, 0.07921379550921287), (4319, 0.002324584860292145), (4320, 0.0016706304420382786), (4321, 0.002018611145820599), (4322, 0.0015825075538086271), (4323, 0.0018475097134060142), (4324, 0.0019323561082273898), (4325, 0.001700090903287316), (4326, 0.0), (4327, 0.0018514671457506458), (4328, 0.0015854685597776245), (4329, 0.017613179058292946), (4330, 0.016001329377710278), (4331, 0.0019210128326507118), (4332, 0.00230238447191233), (4333, 0.0020005367729873168), (4334, 0.0017765889578174748), (4335, 0.00196834540217789), (4336, 0.0016352756203760034), (4337, 0.0018851250588030723), (4338, 0.01716289867155097), (4339, 0.0016183465940223863), (4340, 0.017251965394112157), (4341, 0.019075513579527015), (4342, 0.014511212142894168), (4343, 0.0), (4344, 0.033777072227139784), (4345, 0.03548795546131098), (4346, 0.018307302889926387), (4347, 0.01706033046190295), (4348, 0.014790373794359482), (4349, 0.0017247078750804612), (4350, 0.001639997539917759), (4351, 0.015236884602081285), (4352, 0.0017531106303713252), (4353, 0.001513578180942887), (4354, 0.001631571715958392), (4355, 0.0018581105637841243), (4356, 0.014867524885850336), (4357, 0.001640631464027811), (4358, 0.06929405146653625), (4359, 0.001830936040169912), (4360, 0.04148847941224262), (4361, 0.0017838261042753302), (4362, 0.0016431567498735936), (4363, 0.03596277081543909), (4364, 0.01594516317493138), (4365, 0.001750008047008582), (4366, 0.03870344694136548), (4367, 0.001693950234912282), (4368, 0.0019867067799862245), (4369, 0.001988423672664114), (4370, 0.002024974250009234), (4371, 0.017144306899906616), (4372, 0.001967360222796789), (4373, 0.0014804194630709735), (4374, 0.0018306932461523392), (4375, 0.001961642844936465), (4376, 0.0017429901026012324), (4377, 0.0018373687276979956), (4378, 0.001780755311433761), (4379, 0.0017915422019763164), (4380, 0.0017289797604631333), (4381, 0.0017203872679159738), (4382, 0.0017555340508348441), (4383, 0.030719603054586528), (4384, 0.001751216002621956), (4385, 0.0014946394519805618), (4386, 0.0013673943491742226), (4387, 0.001728583165733046), (4388, 0.0019242182253709583), (4389, 0.0018849935287464728), (4390, 0.0), (4391, 0.001577541052694493), (4392, 0.001796498998689106), (4393, 0.0), (4394, 0.09734673311745365), (4395, 0.01629233562028734), (4396, 0.0019499064263445022), (4397, 0.016186777675550035), (4398, 0.0019916809264813075), (4399, 0.001691747785316889), (4400, 0.0020184442334585623), (4401, 0.0018845248601396195), (4402, 0.0016335952788471828), (4403, 0.0023000058463545636), (4404, 0.0017416618672638803), (4405, 0.01425382595751289), (4406, 0.0017920272015045974), (4407, 0.0025704639056635457), (4408, 0.0018993922524685731), (4409, 0.0016174543592376944), (4410, 0.0018060898061905701), (4411, 0.0014504994989423118), (4412, 0.038943086204691474), (4413, 0.0), (4414, 0.0013345850857267422), (4415, 0.0013650920013881535), (4416, 0.03468453295143621), (4417, 0.0018515329142226832), (4418, 0.0020805079540454725), (4419, 0.00164204638934072), (4420, 0.0017635707576827832), (4421, 0.03716890764850137), (4422, 0.0016357154465434464), (4423, 0.002049415041879968), (4424, 0.001843533597593526), (4425, 0.0044536179624348245), (4426, 0.0014369139551672655), (4427, 0.0017229160710456916), (4428, 0.0016610210355993509), (4429, 0.0), (4430, 0.001643971648458209), (4431, 0.04047351485795694), (4432, 0.0017357761349079662), (4433, 0.0018037407409795992), (4434, 0.0), (4435, 0.0016981118465120536), (4436, 0.001841833093043665), (4437, 0.001609716995150424), (4438, 0.001558510245240368), (4439, 0.0), (4440, 0.002205008422853439), (4441, 0.0015796742613592), (4442, 0.001688493540730833), (4443, 0.0021602482196292423), (4444, 0.002324409351554101), (4445, 0.0013720405510745707), (4446, 0.001997716545625008), (4447, 0.015085797472108876), (4448, 0.0017229061039410079), (4449, 0.0019807146034659345), (4450, 0.0015379053856592936), (4451, 0.0020917722307780486), (4452, 0.0019797645878537624), (4453, 0.0018614492632492564), (4454, 0.01824874258115002), (4455, 0.015348145403009782), (4456, 0.001699797789354386), (4457, 0.016169743121750867), (4458, 0.0), (4459, 0.0018538253921051144), (4460, 0.0018410590675455717), (4461, 0.0), (4462, 0.001852731630418889), (4463, 0.0), (4464, 0.001994851703179275), (4465, 0.0019692635647836063), (4466, 0.0017742478326128617), (4467, 0.0017592233042053836), (4468, 0.0015658562889290172), (4469, 0.001978557057735574), (4470, 0.09690786849834421), (4471, 0.0016701205771457984), (4472, 0.00171854691758781), (4473, 0.001438322397458713), (4474, 0.0019169661174908903), (4475, 0.0), (4476, 0.0015503469509872633), (4477, 0.0020032770652933353), (4478, 0.01663759121671928), (4479, 0.0017593994505743693), (4480, 0.002630649222493952), (4481, 0.00183258765277731), (4482, 0.016118526539204914), (4483, 0.019312409665906142), (4484, 0.002086511224212681), (4485, 0.001602945029511892), (4486, 0.0017716849905615273), (4487, 0.0016991965795554842), (4488, 0.038845563388664774), (4489, 0.0018655022658358364), (4490, 0.002091899197633461), (4491, 0.001712580834903416), (4492, 0.018633567518511144), (4493, 0.0018526692194122717), (4494, 0.0019253477011558114), (4495, 0.001910711575920059), (4496, 0.0019270391010622074), (4497, 0.0018024085905528262), (4498, 0.0014854484774532663), (4499, 0.0021614016275358816), (4500, 0.019402711515910994), (4501, 0.015405433428371437), (4502, 0.0016711598407184512), (4503, 0.038458277014029145), (4504, 0.0016040275428299022), (4505, 0.0018284917616098234), (4506, 0.0020430641867913942), (4507, 0.0017832539897522526), (4508, 0.0018333244851219948), (4509, 0.0016179971206076377), (4510, 0.0018419348827839654), (4511, 0.001597067482569583), (4512, 0.0), (4513, 0.028626096866489804), (4514, 0.001916947978680418), (4515, 0.002057526064001917), (4516, 0.05306772982018845), (4517, 0.001682942348308688), (4518, 0.0020796093285042434), (4519, 0.0), (4520, 0.0), (4521, 0.001952737587216134), (4522, 0.06469241330063097), (4523, 0.0016909619759545612), (4524, 0.0020728127625812254), (4525, 0.034219060678350594), (4526, 0.016685802053099972), (4527, 0.0018224237777432763), (4528, 0.0), (4529, 0.05800096583330657), (4530, 0.0015380206203569116), (4531, 0.0018882681393985624), (4532, 0.0014780244915498667), (4533, 0.0016364890660084679), (4534, 0.0017790559650978932), (4535, 0.0019036210514470635), (4536, 0.0016139171256470538), (4537, 0.002060855837311111), (4538, 0.0019842997445775035), (4539, 0.0018673005308473974), (4540, 0.0017031918344244472), (4541, 0.005306986465807325), (4542, 0.0017206014420066038), (4543, 0.0015863850876926308), (4544, 0.001974460583336067), (4545, 0.03476592529062579), (4546, 0.002032509945925644), (4547, 0.0018113250140860855), (4548, 0.0017637643311123976), (4549, 0.0019028500964095307), (4550, 0.001760317451669999), (4551, 0.00206044239885926), (4552, 0.0017196351730802742), (4553, 0.0), (4554, 0.0022076968470318595), (4555, 0.0023841191594784006), (4556, 0.001624110608419669), (4557, 0.040362872645542426), (4558, 0.0015571272418441623), (4559, 0.015213925657933107), (4560, 0.0016760181148926703), (4561, 0.0), (4562, 0.0), (4563, 0.0017087580305191364), (4564, 0.0016787901252197752), (4565, 0.0), (4566, 0.001736815211884168), (4567, 0.0018351253547845142), (4568, 0.0016837816565311299), (4569, 0.015119822132678784), (4570, 0.0175095843372616), (4571, 0.002516678912475468), (4572, 0.0019424191246779359), (4573, 0.0), (4574, 0.001930845797598823), (4575, 0.001742089615682169), (4576, 0.0019162170842951013), (4577, 0.0015250094966156075), (4578, 0.004748240004103259), (4579, 0.0017057952476331717), (4580, 0.0019389542252991453), (4581, 0.0016586565735739003), (4582, 0.0016385952538175784), (4583, 0.0017246102145686167), (4584, 0.046323853486235744), (4585, 0.0015917107597169925), (4586, 0.0016450507379500217), (4587, 0.0017500147640414645), (4588, 0.0015996597653211587), (4589, 0.04427114554214291), (4590, 0.0017158983487456571), (4591, 0.0016063137864404085), (4592, 0.0017252463887886568), (4593, 0.0), (4594, 0.0019830942171721474), (4595, 0.0018581827940839406), (4596, 0.0016755493875482118), (4597, 0.0018315703277402482), (4598, 0.013249283640194044), (4599, 0.018814525342137258), (4600, 0.0016876904273428318), (4601, 0.001916458817919834), (4602, 0.0018233958416610002), (4603, 0.0), (4604, 0.015965349976284557), (4605, 0.0019218280310752498), (4606, 0.002122547886115814), (4607, 0.002794920499495831), (4608, 0.0014056667782516733), (4609, 0.0017189845042334677), (4610, 0.0015105136581630594), (4611, 0.0445182978579157), (4612, 0.002221099777981366), (4613, 0.0019759603381346615), (4614, 0.0016572184959574754), (4615, 0.0016859260689891472), (4616, 0.0), (4617, 0.002165240732687305), (4618, 0.0022089900567455775), (4619, 0.0019259569112897105), (4620, 0.0015687424723114989), (4621, 0.036969612238610214), (4622, 0.0016820429014159015), (4623, 0.0017173570286409816), (4624, 0.001966279182958064), (4625, 0.0016439771444158272), (4626, 0.0), (4627, 0.001887801031346146), (4628, 0.002012102867604391), (4629, 0.0017567328746928026), (4630, 0.04557634706222076), (4631, 0.0), (4632, 0.0018680242036704453), (4633, 0.0019524557203910457), (4634, 0.0017030122899411432), (4635, 0.002757746780576196), (4636, 0.0014684056484160555), (4637, 0.0018802052848270407), (4638, 0.0015308908150252908), (4639, 0.034639609193938437), (4640, 0.0017346924455728205), (4641, 0.0016474595219223777), (4642, 0.00185289428503755), (4643, 0.03474989959165068), (4644, 0.004329777139861954), (4645, 0.0018776201561870821), (4646, 0.0021107194934383605), (4647, 0.0015420984785440984), (4648, 0.0017482449406681798), (4649, 0.0017386335368426173), (4650, 0.1156895474324697), (4651, 0.0), (4652, 0.0014897757028030053), (4653, 0.0021009531581717205), (4654, 0.0023880416746188274), (4655, 0.0017616447525731836), (4656, 0.0019756381290920184), (4657, 0.0016931971426607966), (4658, 0.04181562452091831), (4659, 0.0019632382309573465), (4660, 0.0021392156552658297), (4661, 0.001511425053694559), (4662, 0.01720697757284624), (4663, 0.001798590733413845), (4664, 0.0016538042755566821), (4665, 0.0017574655416587362), (4666, 0.04001791510983348), (4667, 0.0015080425311880823), (4668, 0.0), (4669, 0.0018211696033338365), (4670, 0.001621445225025744), (4671, 0.002430979284463049), (4672, 0.0016203241881254367), (4673, 0.0017327698067191649), (4674, 0.001412272294191922), (4675, 0.063775634657142), (4676, 0.0017164845676986217), (4677, 0.0018058188203840294), (4678, 0.0018270575469006753), (4679, 0.0014640861503195596), (4680, 0.0018272388820069303), (4681, 0.00346678421416331), (4682, 0.0018299263893181697), (4683, 0.0016719649182296242), (4684, 0.0018749404958274254), (4685, 0.0017148586286009366), (4686, 0.001755197104742009), (4687, 0.0017359639539179814), (4688, 0.08669344697796168), (4689, 0.0016375666348824461), (4690, 0.0015812467056304414), (4691, 0.002142403793867209), (4692, 0.00208820977333485), (4693, 0.0), (4694, 0.0018575849629537578), (4695, 0.0015952751125702463), (4696, 0.0020639327316171446), (4697, 0.0019032986701682667), (4698, 0.0019118562794649325), (4699, 0.04252910704236543), (4700, 0.05055007591176642), (4701, 0.0021835377075423755), (4702, 0.0017703017206903882), (4703, 0.0019796684419659543), (4704, 0.04563010850997497), (4705, 0.042264209508465635), (4706, 0.0017608040109969424), (4707, 0.0020489749191206427), (4708, 0.0017214474919836032), (4709, 0.0021475686618645596), (4710, 0.002002562904084422), (4711, 0.01733494322549974), (4712, 0.0), (4713, 0.0), (4714, 0.0018067457058304223), (4715, 0.0017303721115212792), (4716, 0.0016353774630636783), (4717, 0.001867530090826931), (4718, 0.016472190860872045), (4719, 0.01296577583396548), (4720, 0.001923572325652752), (4721, 0.002307487977349208), (4722, 0.0017043143269044618), (4723, 0.0), (4724, 0.001953399712135884), (4725, 0.0021239768239564704), (4726, 0.0), (4727, 0.001671915253962814), (4728, 0.001891960210732601), (4729, 0.0), (4730, 0.017492383000216584), (4731, 0.0019749392946631877), (4732, 0.002055245314379938), (4733, 0.0), (4734, 0.0), (4735, 0.0020241842109962943), (4736, 0.001856428470066903), (4737, 0.057840871806172464), (4738, 0.0016173945371292355), (4739, 0.011820652062031865), (4740, 0.019037476566248285), (4741, 0.0019069967539303446), (4742, 0.02953003879901482), (4743, 0.001689168225589134), (4744, 0.0), (4745, 0.0013764129195250638), (4746, 0.0017977186214823125), (4747, 0.001988084812081548), (4748, 0.0015073566552923229), (4749, 0.002125940271887415), (4750, 0.001829530798994162), (4751, 0.0), (4752, 0.0), (4753, 0.03372178089892476), (4754, 0.017932915061963227), (4755, 0.0019170930989488462), (4756, 0.06120334539428443), (4757, 0.0019019188677391358), (4758, 0.1451994643962923), (4759, 0.04533509520500807)]\n"
          ]
        }
      ]
    },
    {
      "cell_type": "code",
      "source": [
        "len(Recommendation_Score)"
      ],
      "metadata": {
        "colab": {
          "base_uri": "https://localhost:8080/"
        },
        "id": "_UPLFRXPD_rR",
        "outputId": "37b9627f-c0e8-4b67-d06e-fe6cbccc010e"
      },
      "execution_count": 42,
      "outputs": [
        {
          "output_type": "execute_result",
          "data": {
            "text/plain": [
              "4760"
            ]
          },
          "metadata": {},
          "execution_count": 42
        }
      ]
    },
    {
      "cell_type": "markdown",
      "source": [
        "Get all movies sort based on recommendation score wrt favourite movie"
      ],
      "metadata": {
        "id": "I4oZ5hOkEKAQ"
      }
    },
    {
      "cell_type": "code",
      "source": [
        "#sorting the movies based on their similarity score\n",
        "Sorted_Similar_Movies = sorted(Recommendation_Score,key= lambda x:x[1],reverse = True)"
      ],
      "metadata": {
        "id": "r0oONaOaEIJo"
      },
      "execution_count": 43,
      "outputs": []
    },
    {
      "cell_type": "code",
      "source": [
        "#print the name of sorted movie based on index\n",
        "print('Top 30 movies suggested for you : \\n')\n",
        "i=1\n",
        "for movie in Sorted_Similar_Movies:\n",
        "   index = movie[0]\n",
        "   title_from_index = df[df.index==index]['Movie_Title'].values[0]\n",
        "   if(i<31):\n",
        "    print(i,'.',title_from_index)\n",
        "    i+=1"
      ],
      "metadata": {
        "colab": {
          "base_uri": "https://localhost:8080/"
        },
        "id": "9rBqR1OlFjLJ",
        "outputId": "82b63fed-21ec-4276-e79c-790c3d171333"
      },
      "execution_count": 47,
      "outputs": [
        {
          "output_type": "stream",
          "name": "stdout",
          "text": [
            "Top 30 movies suggested for you : \n",
            "\n",
            "1 . Doogal\n",
            "2 . Shorts\n",
            "3 . Superbabies: Baby Geniuses 2\n",
            "4 . Elf\n",
            "5 . Factory Girl\n",
            "6 . Brooklyn Rules\n",
            "7 . Fever Pitch\n",
            "8 . Farce of the Penguins\n",
            "9 . The Deep End of the Ocean\n",
            "10 . The Rugrats Movie\n",
            "11 . Bogus\n",
            "12 . Running Forever\n",
            "13 . Ghosts of Mississippi\n",
            "14 . An Alan Smithee Film: Burn, Hollywood, Burn\n",
            "15 . Rat Race\n",
            "16 . The Color Purple\n",
            "17 . Madea Goes to Jail\n",
            "18 . How Stella Got Her Groove Back\n",
            "19 . Ghost\n",
            "20 . Walter\n",
            "21 . The Valley of Decision\n",
            "22 . Beer League\n",
            "23 . It's a Wonderful Life\n",
            "24 . Mr. Holland's Opus\n",
            "25 . Cellular\n",
            "26 . Air Force One\n",
            "27 . The Cooler\n",
            "28 . Welcome to Collinwood\n",
            "29 . The Lincoln Lawyer\n",
            "30 . Sahara\n"
          ]
        }
      ]
    },
    {
      "cell_type": "markdown",
      "source": [
        "Top 10 movies recommendation system"
      ],
      "metadata": {
        "id": "cwH--xe0JOqk"
      }
    },
    {
      "cell_type": "code",
      "source": [
        "movie_name = input('Enter your favourite movie name :\\n')\n",
        "list_of_all_titles = df['Movie_Title'].tolist()\n",
        "Find_Close_Match = difflib.get_close_matches(movie_name,list_of_all_titles)\n",
        "close_match = Find_Close_Match[0]\n",
        "Index_of_Movie = df[df.Movie_Title==close_match]['Movie_ID'].values[0]\n",
        "recommendation_score = list(enumerate(Similarity_Score[Index_of_Movie]))\n",
        "sorted_similar_movies = sorted(recommendation_score,key = lambda x:x[1],reverse=True)\n",
        "print('Top 10 movies suggested for you :\\n')\n",
        "i=1\n",
        "for movie in sorted_similar_movies:\n",
        "  index=movie[0]\n",
        "  title_from_index = df[df.index==index]['Movie_Title'].values[0]\n",
        "  if(i<11):\n",
        "    print(i,'.',title_from_index)\n",
        "    i+=1\n"
      ],
      "metadata": {
        "colab": {
          "base_uri": "https://localhost:8080/"
        },
        "id": "7ip5Ka0VJVtg",
        "outputId": "91a2de68-ae56-48d3-bfc2-e42a2aae0bd1"
      },
      "execution_count": 52,
      "outputs": [
        {
          "output_type": "stream",
          "name": "stdout",
          "text": [
            "Enter your favourite movie name :\n",
            "titanic\n",
            "Top 10 movies suggested for you :\n",
            "\n",
            "1 . City of God\n",
            "2 . Trash\n",
            "3 . The Constant Gardener\n",
            "4 . Boyz n the Hood\n",
            "5 . Blindness\n",
            "6 . The Outsiders\n",
            "7 . The Rage: Carrie 2\n",
            "8 . Losin' It\n",
            "9 . Elite Squad\n",
            "10 . Crossover\n"
          ]
        }
      ]
    }
  ]
}